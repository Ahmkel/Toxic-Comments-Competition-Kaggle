{
  "nbformat": 4,
  "nbformat_minor": 0,
  "metadata": {
    "colab": {
      "name": "Toxic-Comment-Classification.ipynb",
      "version": "0.3.2",
      "views": {},
      "default_view": {},
      "provenance": [],
      "collapsed_sections": []
    },
    "kernelspec": {
      "name": "python3",
      "display_name": "Python 3"
    },
    "accelerator": "GPU"
  },
  "cells": [
    {
      "metadata": {
        "id": "hD2cH-uCzzv8",
        "colab_type": "text"
      },
      "cell_type": "markdown",
      "source": [
        "# Download and extract data and clone repository"
      ]
    },
    {
      "metadata": {
        "id": "MM76KkR18iq8",
        "colab_type": "code",
        "colab": {
          "autoexec": {
            "startup": false,
            "wait_interval": 0
          },
          "base_uri": "https://localhost:8080/",
          "height": 911
        },
        "cellView": "code",
        "outputId": "2ee30bf9-bfb0-4fbc-ee65-9d9dad101a26",
        "executionInfo": {
          "status": "ok",
          "timestamp": 1523438757261,
          "user_tz": -120,
          "elapsed": 63777,
          "user": {
            "displayName": "Mahmoud Khaled",
            "photoUrl": "//lh4.googleusercontent.com/-KrdlVaQJbhA/AAAAAAAAAAI/AAAAAAAAAio/yIydBmJjw78/s50-c-k-no/photo.jpg",
            "userId": "107229491952708267793"
          }
        }
      },
      "cell_type": "code",
      "source": [
        "!git clone https://github.com/Ahmkel/Toxic-Comments-Competition-Kaggle\n",
        "!wget \"https://storage.googleapis.com/kaggle-competitions-data/kaggle/8076/train.csv.zip" -O train.csv.zip\n",
        "!unzip train.csv.zip -d Toxic-Comments-Competition-Kaggle/datasets\n",
        "!wget \"https://storage.googleapis.com/kaggle-competitions-data/kaggle/8076/test.csv.zip" -O test.csv.zip\n",
        "!unzip test.csv.zip -d Toxic-Comments-Competition-Kaggle/datasets\n",
        "!wget http://nlp.stanford.edu/data/glove.6B.zip\n",
        "!unzip glove.6B.zip -d Toxic-Comments-Competition-Kaggle/datasets"
      ],
      "execution_count": 6,
      "outputs": [
        {
          "output_type": "stream",
          "text": [
            "Cloning into 'Toxic-Comments-Competition-Kaggle'...\n",
            "remote: Counting objects: 153, done.\u001b[K\n",
            "remote: Compressing objects: 100% (100/100), done.\u001b[K\n",
            "remote: Total 153 (delta 53), reused 124 (delta 37), pack-reused 0\u001b[K\n",
            "Receiving objects: 100% (153/153), 87.49 KiB | 6.25 MiB/s, done.\n",
            "Resolving deltas: 100% (53/53), done.\n",
            "--2018-04-11 09:24:56--  https://storage.googleapis.com/kaggle-competitions-data/kaggle/8076/train.csv.zip?GoogleAccessId=web-data@kaggle-161607.iam.gserviceaccount.com&Expires=1523616896&Signature=O%2FmcDGSayifv00Wrt%2FRnL1glIHtPoWsnrPQGKqpkoHpdimEeaZusW1BCFnBxTA2NlXUFGy8GXJyJXG%2BbxFlTwEQpsuuc31%2Bddj4BbHdqtPMS0GC38JflTAsmlitnRj4nBOO5oh5Ja4qdwgQg23Gq3DDovZkxMYf91jWDaynILT%2FsBEMBZeaQaewz2cmOpoDVa5Sl37DCAzOaqMOgdwAwOoXZA%2B9tGzmlOVsHX7Ga5lK%2Bq9nReq3%2Fok449NZnMa8udrwcEE7NFsA17pwK04SZwBqP%2F4HDeME6qdF7GvhbJE5lBsdGv40FTOYtrj6deYLpxynvDuMdLKLO2lgj%2FCFLYQ%3D%3D\n",
            "Resolving storage.googleapis.com (storage.googleapis.com)... 74.125.141.128, 2607:f8b0:400c:c06::80\n",
            "Connecting to storage.googleapis.com (storage.googleapis.com)|74.125.141.128|:443... connected.\n",
            "HTTP request sent, awaiting response... 200 OK\n",
            "Length: 27619914 (26M) [application/zip]\n",
            "Saving to: ‘train.csv.zip’\n",
            "\n",
            "train.csv.zip       100%[===================>]  26.34M   112MB/s    in 0.2s    \n",
            "\n",
            "2018-04-11 09:24:56 (112 MB/s) - ‘train.csv.zip’ saved [27619914/27619914]\n",
            "\n",
            "Archive:  train.csv.zip\n",
            "  inflating: Toxic-Comments-Competition-Kaggle/data/train.csv  \n",
            "--2018-04-11 09:24:59--  https://storage.googleapis.com/kaggle-competitions-data/kaggle/8076/test.csv.zip?GoogleAccessId=web-data@kaggle-161607.iam.gserviceaccount.com&Expires=1523617427&Signature=nm0iL3ZhyOv%2BQ4e%2FixBV7znmdGXxeTnlQ%2F2UlCqN7YHWhEfdVfw2MC2nFeLqmch0FtRqcEgrSfha0Bf5yJ1vNyDD%2BfyMdPQfQWjXe4ypJc3fIncMwqQqm5rZmk9po8edxL5MCLTL%2FuFBzcl5UpF3Lgv9GGm9IWmq8oexrOMxOENQWwpEOnKnu0Ns3Ok6D5ySeR8p6BUAnpkNyT%2BskbWcNYVozAj3pdnX8mFwotW%2Fpx%2FrZ1eYELgmN59kccWbFoqcvZCsW3IjuE36yUolNo1xyY8wls42rDhmsn3PvY93vk%2BYHYsgYsbcnfBzhp3%2FnW7XDErT0MCLjBm2bpYhV1VI9A%3D%3D\n",
            "Resolving storage.googleapis.com (storage.googleapis.com)... 74.125.141.128, 2607:f8b0:400c:c06::80\n",
            "Connecting to storage.googleapis.com (storage.googleapis.com)|74.125.141.128|:443... connected.\n",
            "HTTP request sent, awaiting response... 200 OK\n",
            "Length: 24577258 (23M) [application/zip]\n",
            "Saving to: ‘test.csv.zip’\n",
            "\n",
            "test.csv.zip        100%[===================>]  23.44M  95.0MB/s    in 0.2s    \n",
            "\n",
            "2018-04-11 09:24:59 (95.0 MB/s) - ‘test.csv.zip’ saved [24577258/24577258]\n",
            "\n",
            "Archive:  test.csv.zip\n",
            "  inflating: Toxic-Comments-Competition-Kaggle/data/test.csv  \n",
            "--2018-04-11 09:25:02--  http://nlp.stanford.edu/data/glove.6B.zip\n",
            "Resolving nlp.stanford.edu (nlp.stanford.edu)... 171.64.67.140\n",
            "Connecting to nlp.stanford.edu (nlp.stanford.edu)|171.64.67.140|:80... connected.\n",
            "HTTP request sent, awaiting response... 302 Found\n",
            "Location: https://nlp.stanford.edu/data/glove.6B.zip [following]\n",
            "--2018-04-11 09:25:03--  https://nlp.stanford.edu/data/glove.6B.zip\n",
            "Connecting to nlp.stanford.edu (nlp.stanford.edu)|171.64.67.140|:443... connected.\n",
            "HTTP request sent, awaiting response... 200 OK\n",
            "Length: 862182613 (822M) [application/zip]\n",
            "Saving to: ‘glove.6B.zip’\n",
            "\n",
            "glove.6B.zip         11%[=>                  ]  91.60M  27.5MB/s    eta 31s    "
          ],
          "name": "stdout"
        },
        {
          "output_type": "stream",
          "text": [
            "glove.6B.zip        100%[===================>] 822.24M  27.7MB/s    in 29s     \n",
            "\n",
            "2018-04-11 09:25:32 (28.4 MB/s) - ‘glove.6B.zip’ saved [862182613/862182613]\n",
            "\n",
            "Archive:  glove.6B.zip\n",
            "  inflating: Toxic-Comments-Competition-Kaggle/data/glove.6B.50d.txt  \n",
            "  inflating: Toxic-Comments-Competition-Kaggle/data/glove.6B.100d.txt  \n",
            "  inflating: Toxic-Comments-Competition-Kaggle/data/glove.6B.200d.txt  \n",
            "  inflating: Toxic-Comments-Competition-Kaggle/data/glove.6B.300d.txt  \n"
          ],
          "name": "stdout"
        }
      ]
    },
    {
      "metadata": {
        "id": "irVw0hQU0JKM",
        "colab_type": "text"
      },
      "cell_type": "markdown",
      "source": [
        "# Install python dependencies"
      ]
    },
    {
      "metadata": {
        "id": "cjRzzgV5B44K",
        "colab_type": "code",
        "colab": {
          "autoexec": {
            "startup": false,
            "wait_interval": 0
          },
          "base_uri": "https://localhost:8080/",
          "height": 151
        },
        "outputId": "db92a323-a8e0-471f-df7c-cd6223baca9a",
        "executionInfo": {
          "status": "ok",
          "timestamp": 1523438828611,
          "user_tz": -120,
          "elapsed": 4421,
          "user": {
            "displayName": "Mahmoud Khaled",
            "photoUrl": "//lh4.googleusercontent.com/-KrdlVaQJbhA/AAAAAAAAAAI/AAAAAAAAAio/yIydBmJjw78/s50-c-k-no/photo.jpg",
            "userId": "107229491952708267793"
          }
        }
      },
      "cell_type": "code",
      "source": [
        "!pip install bunch"
      ],
      "execution_count": 10,
      "outputs": [
        {
          "output_type": "stream",
          "text": [
            "Collecting bunch\n",
            "  Downloading bunch-1.0.1.tar.gz\n",
            "Building wheels for collected packages: bunch\n",
            "  Running setup.py bdist_wheel for bunch ... \u001b[?25l-\b \bdone\n",
            "\u001b[?25h  Stored in directory: /content/.cache/pip/wheels/0d/1d/8c/88c32f2ae9e982a8dbf974a9e9cddb999a82fb3aeadae6955d\n",
            "Successfully built bunch\n",
            "Installing collected packages: bunch\n",
            "Successfully installed bunch-1.0.1\n"
          ],
          "name": "stdout"
        }
      ]
    },
    {
      "metadata": {
        "id": "2-zXoNGx0NjW",
        "colab_type": "text"
      },
      "cell_type": "markdown",
      "source": [
        "# Change working directory to the repository"
      ]
    },
    {
      "metadata": {
        "id": "UCV52Sat-Cxg",
        "colab_type": "code",
        "colab": {
          "autoexec": {
            "startup": false,
            "wait_interval": 0
          }
        }
      },
      "cell_type": "code",
      "source": [
        "import os\n",
        "os.chdir('Toxic-Comments-Competition-Kaggle')"
      ],
      "execution_count": 0,
      "outputs": []
    },
    {
      "metadata": {
        "id": "aFWvj3Of0SCU",
        "colab_type": "text"
      },
      "cell_type": "markdown",
      "source": [
        "# Binary Classification Experiment"
      ]
    },
    {
      "metadata": {
        "id": "WB6kakfr-on2",
        "colab_type": "code",
        "colab": {
          "autoexec": {
            "startup": false,
            "wait_interval": 0
          },
          "base_uri": "https://localhost:8080/",
          "height": 8902
        },
        "outputId": "6bc9180e-0457-4ed1-eedc-da395b6fe7f9",
        "executionInfo": {
          "status": "ok",
          "timestamp": 1523455177940,
          "user_tz": -120,
          "elapsed": 2735767,
          "user": {
            "displayName": "Mahmoud Khaled",
            "photoUrl": "//lh4.googleusercontent.com/-KrdlVaQJbhA/AAAAAAAAAAI/AAAAAAAAAio/yIydBmJjw78/s50-c-k-no/photo.jpg",
            "userId": "107229491952708267793"
          }
        }
      },
      "cell_type": "code",
      "source": [
        "%run main.py -c configs/simple_conv_model.json"
      ],
      "execution_count": 35,
      "outputs": [
        {
          "output_type": "stream",
          "text": [
            "Switched to branch 'master'\r\n",
            "Your branch is up-to-date with 'origin/master'.\r\n",
            "Create the data generator.\n",
            "Create the model.\n",
            "Create the trainer\n",
            "Start training the model.\n",
            "Train on 119678 samples, validate on 39893 samples\n",
            "Epoch 1/100\n",
            " 70272/119678 [================>.............] 70272/119678 [================>.............] - ETA: 10s - loss: 0.5242 - acc: 0.9005"
          ],
          "name": "stdout"
        },
        {
          "output_type": "stream",
          "text": [
            "119552/119678 [============================>.]119552/119678 [============================>.] - ETA: 0s - loss: 0.4413 - acc: 0.9188\n",
            "Epoch 00001: val_loss improved from inf to 0.27989, saving model to experiments/simple_conv_model/checkpoint/simple_conv_model-01-0.28.hdf5\n",
            "119678/119678 [==============================]119678/119678 [==============================] - 29s 241us/step - loss: 0.4412 - acc: 0.9188 - val_loss: 0.2799 - val_acc: 0.9457\n",
            "\n",
            "Epoch 2/100\n",
            " 35776/119678 [=======>......................] 35776/119678 [=======>......................] - ETA: 16s - loss: 0.2537 - acc: 0.9487"
          ],
          "name": "stdout"
        },
        {
          "output_type": "stream",
          "text": [
            "119552/119678 [============================>.]119552/119678 [============================>.] - ETA: 0s - loss: 0.2208 - acc: 0.9481\n",
            "Epoch 00002: val_loss improved from 0.27989 to 0.18895, saving model to experiments/simple_conv_model/checkpoint/simple_conv_model-02-0.19.hdf5\n",
            "119678/119678 [==============================]119678/119678 [==============================] - 28s 233us/step - loss: 0.2207 - acc: 0.9481 - val_loss: 0.1890 - val_acc: 0.9463\n",
            "\n",
            "Epoch 3/100\n",
            " 27776/119678 [=====>........................] 27776/119678 [=====>........................] - ETA: 18s - loss: 0.1743 - acc: 0.9507"
          ],
          "name": "stdout"
        },
        {
          "output_type": "stream",
          "text": [
            "119552/119678 [============================>.]119552/119678 [============================>.] - ETA: 0s - loss: 0.1642 - acc: 0.9504\n",
            "Epoch 00003: val_loss improved from 0.18895 to 0.15978, saving model to experiments/simple_conv_model/checkpoint/simple_conv_model-03-0.16.hdf5\n",
            "119678/119678 [==============================]119678/119678 [==============================] - 28s 233us/step - loss: 0.1642 - acc: 0.9504 - val_loss: 0.1598 - val_acc: 0.9480\n",
            "\n",
            "Epoch 4/100\n",
            " 26304/119678 [=====>........................] 26304/119678 [=====>........................] - ETA: 18s - loss: 0.1499 - acc: 0.9518"
          ],
          "name": "stdout"
        },
        {
          "output_type": "stream",
          "text": [
            "119552/119678 [============================>.]119552/119678 [============================>.] - ETA: 0s - loss: 0.1446 - acc: 0.9521\n",
            "Epoch 00004: val_loss improved from 0.15978 to 0.15117, saving model to experiments/simple_conv_model/checkpoint/simple_conv_model-04-0.15.hdf5\n",
            "119678/119678 [==============================]119678/119678 [==============================] - 28s 231us/step - loss: 0.1446 - acc: 0.9521 - val_loss: 0.1512 - val_acc: 0.9489\n",
            "\n",
            "Epoch 5/100\n",
            " 27264/119678 [=====>........................] 27264/119678 [=====>........................] - ETA: 18s - loss: 0.1343 - acc: 0.9555"
          ],
          "name": "stdout"
        },
        {
          "output_type": "stream",
          "text": [
            "119424/119678 [============================>.]119424/119678 [============================>.] - ETA: 0s - loss: 0.1374 - acc: 0.9528\n",
            "Epoch 00005: val_loss improved from 0.15117 to 0.14852, saving model to experiments/simple_conv_model/checkpoint/simple_conv_model-05-0.15.hdf5\n",
            "119678/119678 [==============================]119678/119678 [==============================] - 28s 232us/step - loss: 0.1374 - acc: 0.9528 - val_loss: 0.1485 - val_acc: 0.9483\n",
            "\n",
            "Epoch 6/100\n",
            " 27392/119678 [=====>........................] 27392/119678 [=====>........................] - ETA: 18s - loss: 0.1320 - acc: 0.9536"
          ],
          "name": "stdout"
        },
        {
          "output_type": "stream",
          "text": [
            "119488/119678 [============================>.]119488/119678 [============================>.] - ETA: 0s - loss: 0.1338 - acc: 0.9535\n",
            "Epoch 00006: val_loss did not improve\n",
            "119678/119678 [==============================]119678/119678 [==============================] - 27s 222us/step - loss: 0.1338 - acc: 0.9535 - val_loss: 0.1486 - val_acc: 0.9482\n",
            "\n",
            "Epoch 7/100\n",
            " 33024/119678 [=======>......................] 33024/119678 [=======>......................] - ETA: 17s - loss: 0.1296 - acc: 0.9542"
          ],
          "name": "stdout"
        },
        {
          "output_type": "stream",
          "text": [
            "119552/119678 [============================>.]119552/119678 [============================>.] - ETA: 0s - loss: 0.1317 - acc: 0.9541\n",
            "Epoch 00007: val_loss did not improve\n",
            "119678/119678 [==============================]119678/119678 [==============================] - 27s 222us/step - loss: 0.1317 - acc: 0.9541 - val_loss: 0.1494 - val_acc: 0.9474\n",
            "\n",
            "Epoch 8/100\n",
            " 35200/119678 [=======>......................] 35200/119678 [=======>......................] - ETA: 16s - loss: 0.1294 - acc: 0.9551"
          ],
          "name": "stdout"
        },
        {
          "output_type": "stream",
          "text": [
            "119616/119678 [============================>.]119616/119678 [============================>.] - ETA: 0s - loss: 0.1302 - acc: 0.9542\n",
            "Epoch 00008: val_loss improved from 0.14852 to 0.14726, saving model to experiments/simple_conv_model/checkpoint/simple_conv_model-08-0.15.hdf5\n",
            "119678/119678 [==============================]119678/119678 [==============================] - 28s 230us/step - loss: 0.1301 - acc: 0.9542 - val_loss: 0.1473 - val_acc: 0.9493\n",
            "\n",
            "Epoch 9/100\n",
            " 29376/119678 [======>.......................] 29376/119678 [======>.......................] - ETA: 17s - loss: 0.1247 - acc: 0.9558"
          ],
          "name": "stdout"
        },
        {
          "output_type": "stream",
          "text": [
            "119424/119678 [============================>.]119424/119678 [============================>.] - ETA: 0s - loss: 0.1291 - acc: 0.9543\n",
            "Epoch 00009: val_loss did not improve\n",
            "119678/119678 [==============================]119678/119678 [==============================] - 26s 221us/step - loss: 0.1290 - acc: 0.9543 - val_loss: 0.1496 - val_acc: 0.9484\n",
            "\n",
            "Epoch 10/100\n",
            " 34368/119678 [=======>......................] 34368/119678 [=======>......................] - ETA: 16s - loss: 0.1286 - acc: 0.9541"
          ],
          "name": "stdout"
        },
        {
          "output_type": "stream",
          "text": [
            "119488/119678 [============================>.]119488/119678 [============================>.] - ETA: 0s - loss: 0.1279 - acc: 0.9547\n",
            "Epoch 00010: val_loss did not improve\n",
            "119678/119678 [==============================]119678/119678 [==============================] - 26s 221us/step - loss: 0.1279 - acc: 0.9547 - val_loss: 0.1484 - val_acc: 0.9487\n",
            "\n",
            "Epoch 11/100\n",
            " 35968/119678 [========>.....................] 35968/119678 [========>.....................] - ETA: 16s - loss: 0.1257 - acc: 0.9558"
          ],
          "name": "stdout"
        },
        {
          "output_type": "stream",
          "text": [
            "119424/119678 [============================>.]119424/119678 [============================>.] - ETA: 0s - loss: 0.1273 - acc: 0.9546\n",
            "Epoch 00011: val_loss did not improve\n",
            "119678/119678 [==============================]119678/119678 [==============================] - 26s 221us/step - loss: 0.1273 - acc: 0.9546 - val_loss: 0.1482 - val_acc: 0.9495\n",
            "\n",
            "Epoch 12/100\n",
            " 36160/119678 [========>.....................] 36160/119678 [========>.....................] - ETA: 16s - loss: 0.1252 - acc: 0.9558"
          ],
          "name": "stdout"
        },
        {
          "output_type": "stream",
          "text": [
            "119424/119678 [============================>.]119424/119678 [============================>.] - ETA: 0s - loss: 0.1264 - acc: 0.9556\n",
            "Epoch 00012: val_loss did not improve\n",
            "119678/119678 [==============================]119678/119678 [==============================] - 26s 221us/step - loss: 0.1264 - acc: 0.9556 - val_loss: 0.1483 - val_acc: 0.9486\n",
            "\n",
            "Epoch 13/100\n",
            " 36416/119678 [========>.....................] 36416/119678 [========>.....................] - ETA: 16s - loss: 0.1227 - acc: 0.9569"
          ],
          "name": "stdout"
        },
        {
          "output_type": "stream",
          "text": [
            "119616/119678 [============================>.]119616/119678 [============================>.] - ETA: 0s - loss: 0.1261 - acc: 0.9554\n",
            "Epoch 00013: val_loss did not improve\n",
            "119678/119678 [==============================]119678/119678 [==============================] - 27s 222us/step - loss: 0.1260 - acc: 0.9554 - val_loss: 0.1481 - val_acc: 0.9485\n",
            "\n",
            "Epoch 14/100\n",
            " 36352/119678 [========>.....................] 36352/119678 [========>.....................] - ETA: 16s - loss: 0.1251 - acc: 0.9562"
          ],
          "name": "stdout"
        },
        {
          "output_type": "stream",
          "text": [
            "119424/119678 [============================>.]119424/119678 [============================>.] - ETA: 0s - loss: 0.1253 - acc: 0.9556\n",
            "Epoch 00014: val_loss did not improve\n",
            "119678/119678 [==============================]119678/119678 [==============================] - 27s 221us/step - loss: 0.1252 - acc: 0.9556 - val_loss: 0.1475 - val_acc: 0.9494\n",
            "\n",
            "Epoch 15/100\n",
            " 35840/119678 [=======>......................] 35840/119678 [=======>......................] - ETA: 16s - loss: 0.1182 - acc: 0.9582"
          ],
          "name": "stdout"
        },
        {
          "output_type": "stream",
          "text": [
            "119552/119678 [============================>.]119552/119678 [============================>.] - ETA: 0s - loss: 0.1249 - acc: 0.9556\n",
            "Epoch 00015: val_loss did not improve\n",
            "119678/119678 [==============================]119678/119678 [==============================] - 27s 222us/step - loss: 0.1249 - acc: 0.9556 - val_loss: 0.1516 - val_acc: 0.9485\n",
            "\n",
            "Epoch 16/100\n",
            " 36480/119678 [========>.....................] 36480/119678 [========>.....................] - ETA: 16s - loss: 0.1180 - acc: 0.9584"
          ],
          "name": "stdout"
        },
        {
          "output_type": "stream",
          "text": [
            "119360/119678 [============================>.]119360/119678 [============================>.] - ETA: 0s - loss: 0.1242 - acc: 0.9560\n",
            "Epoch 00016: val_loss did not improve\n",
            "119678/119678 [==============================]119678/119678 [==============================] - 27s 221us/step - loss: 0.1244 - acc: 0.9559 - val_loss: 0.1499 - val_acc: 0.9477\n",
            "\n",
            "Epoch 17/100\n",
            " 35840/119678 [=======>......................] 35840/119678 [=======>......................] - ETA: 16s - loss: 0.1221 - acc: 0.9558"
          ],
          "name": "stdout"
        },
        {
          "output_type": "stream",
          "text": [
            "119616/119678 [============================>.]119616/119678 [============================>.] - ETA: 0s - loss: 0.1237 - acc: 0.9562\n",
            "Epoch 00017: val_loss did not improve\n",
            "119678/119678 [==============================]119678/119678 [==============================] - 27s 223us/step - loss: 0.1237 - acc: 0.9562 - val_loss: 0.1496 - val_acc: 0.9488\n",
            "\n",
            "Epoch 18/100\n",
            " 34944/119678 [=======>......................] 34944/119678 [=======>......................] - ETA: 16s - loss: 0.1222 - acc: 0.9566"
          ],
          "name": "stdout"
        },
        {
          "output_type": "stream",
          "text": [
            "119424/119678 [============================>.]119424/119678 [============================>.] - ETA: 0s - loss: 0.1235 - acc: 0.9560\n",
            "Epoch 00018: val_loss did not improve\n",
            "119678/119678 [==============================]119678/119678 [==============================] - 27s 223us/step - loss: 0.1235 - acc: 0.9560 - val_loss: 0.1490 - val_acc: 0.9485\n",
            "\n",
            "Epoch 19/100\n",
            " 34816/119678 [=======>......................] 34816/119678 [=======>......................] - ETA: 16s - loss: 0.1211 - acc: 0.9580"
          ],
          "name": "stdout"
        },
        {
          "output_type": "stream",
          "text": [
            "119360/119678 [============================>.]119360/119678 [============================>.] - ETA: 0s - loss: 0.1228 - acc: 0.9565\n",
            "Epoch 00019: val_loss did not improve\n",
            "119678/119678 [==============================]119678/119678 [==============================] - 27s 221us/step - loss: 0.1229 - acc: 0.9565 - val_loss: 0.1496 - val_acc: 0.9473\n",
            "\n",
            "Epoch 20/100\n",
            " 36288/119678 [========>.....................] 36288/119678 [========>.....................] - ETA: 16s - loss: 0.1202 - acc: 0.9567"
          ],
          "name": "stdout"
        },
        {
          "output_type": "stream",
          "text": [
            "119616/119678 [============================>.]119616/119678 [============================>.] - ETA: 0s - loss: 0.1226 - acc: 0.9562\n",
            "Epoch 00020: val_loss did not improve\n",
            "119678/119678 [==============================]119678/119678 [==============================] - 26s 220us/step - loss: 0.1227 - acc: 0.9562 - val_loss: 0.1505 - val_acc: 0.9483\n",
            "\n",
            "Epoch 21/100\n",
            " 35520/119678 [=======>......................] 35520/119678 [=======>......................] - ETA: 16s - loss: 0.1210 - acc: 0.9569"
          ],
          "name": "stdout"
        },
        {
          "output_type": "stream",
          "text": [
            "119552/119678 [============================>.]119552/119678 [============================>.] - ETA: 0s - loss: 0.1221 - acc: 0.9565\n",
            "Epoch 00021: val_loss did not improve\n",
            "119678/119678 [==============================]119678/119678 [==============================] - 27s 222us/step - loss: 0.1221 - acc: 0.9565 - val_loss: 0.1496 - val_acc: 0.9484\n",
            "\n",
            "Epoch 22/100\n",
            " 35264/119678 [=======>......................] 35264/119678 [=======>......................] - ETA: 16s - loss: 0.1173 - acc: 0.9581"
          ],
          "name": "stdout"
        },
        {
          "output_type": "stream",
          "text": [
            "119360/119678 [============================>.]119360/119678 [============================>.] - ETA: 0s - loss: 0.1219 - acc: 0.9569\n",
            "Epoch 00022: val_loss did not improve\n",
            "119678/119678 [==============================]119678/119678 [==============================] - 27s 223us/step - loss: 0.1220 - acc: 0.9569 - val_loss: 0.1491 - val_acc: 0.9493\n",
            "\n",
            "Epoch 23/100\n",
            " 36736/119678 [========>.....................] 36736/119678 [========>.....................] - ETA: 16s - loss: 0.1173 - acc: 0.9581"
          ],
          "name": "stdout"
        },
        {
          "output_type": "stream",
          "text": [
            "119360/119678 [============================>.]119360/119678 [============================>.] - ETA: 0s - loss: 0.1218 - acc: 0.9569\n",
            "Epoch 00023: val_loss did not improve\n",
            "119678/119678 [==============================]119678/119678 [==============================] - 26s 221us/step - loss: 0.1218 - acc: 0.9569 - val_loss: 0.1500 - val_acc: 0.9485\n",
            "\n",
            "Epoch 24/100\n",
            " 36544/119678 [========>.....................] 36544/119678 [========>.....................] - ETA: 16s - loss: 0.1188 - acc: 0.9587"
          ],
          "name": "stdout"
        },
        {
          "output_type": "stream",
          "text": [
            "119424/119678 [============================>.]119424/119678 [============================>.] - ETA: 0s - loss: 0.1214 - acc: 0.9568\n",
            "Epoch 00024: val_loss did not improve\n",
            "119678/119678 [==============================]119678/119678 [==============================] - 26s 221us/step - loss: 0.1213 - acc: 0.9568 - val_loss: 0.1496 - val_acc: 0.9491\n",
            "\n",
            "Epoch 25/100\n",
            " 36736/119678 [========>.....................] 36736/119678 [========>.....................] - ETA: 16s - loss: 0.1189 - acc: 0.9581"
          ],
          "name": "stdout"
        },
        {
          "output_type": "stream",
          "text": [
            "119616/119678 [============================>.]119616/119678 [============================>.] - ETA: 0s - loss: 0.1207 - acc: 0.9572\n",
            "Epoch 00025: val_loss did not improve\n",
            "119678/119678 [==============================]119678/119678 [==============================] - 27s 222us/step - loss: 0.1207 - acc: 0.9572 - val_loss: 0.1505 - val_acc: 0.9487\n",
            "\n",
            "Epoch 26/100\n",
            " 35904/119678 [========>.....................] 35904/119678 [========>.....................] - ETA: 16s - loss: 0.1191 - acc: 0.9590"
          ],
          "name": "stdout"
        },
        {
          "output_type": "stream",
          "text": [
            "119616/119678 [============================>.]119616/119678 [============================>.] - ETA: 0s - loss: 0.1209 - acc: 0.9572\n",
            "Epoch 00026: val_loss did not improve\n",
            "119678/119678 [==============================]119678/119678 [==============================] - 27s 223us/step - loss: 0.1210 - acc: 0.9572 - val_loss: 0.1497 - val_acc: 0.9483\n",
            "\n",
            "Epoch 27/100\n",
            " 36416/119678 [========>.....................] 36416/119678 [========>.....................] - ETA: 16s - loss: 0.1219 - acc: 0.9578"
          ],
          "name": "stdout"
        },
        {
          "output_type": "stream",
          "text": [
            "119488/119678 [============================>.]119488/119678 [============================>.] - ETA: 0s - loss: 0.1205 - acc: 0.9577\n",
            "Epoch 00027: val_loss did not improve\n",
            "119678/119678 [==============================]119678/119678 [==============================] - 27s 221us/step - loss: 0.1206 - acc: 0.9577 - val_loss: 0.1507 - val_acc: 0.9484\n",
            "\n",
            "Epoch 28/100\n",
            " 36160/119678 [========>.....................] 36160/119678 [========>.....................] - ETA: 16s - loss: 0.1181 - acc: 0.9580"
          ],
          "name": "stdout"
        },
        {
          "output_type": "stream",
          "text": [
            "119488/119678 [============================>.]119488/119678 [============================>.] - ETA: 0s - loss: 0.1203 - acc: 0.9576\n",
            "Epoch 00028: val_loss did not improve\n",
            "119678/119678 [==============================]119678/119678 [==============================] - 26s 221us/step - loss: 0.1203 - acc: 0.9576 - val_loss: 0.1504 - val_acc: 0.9486\n",
            "\n",
            "Epoch 29/100\n",
            " 35904/119678 [========>.....................] 35904/119678 [========>.....................] - ETA: 16s - loss: 0.1189 - acc: 0.9586"
          ],
          "name": "stdout"
        },
        {
          "output_type": "stream",
          "text": [
            "119552/119678 [============================>.]119552/119678 [============================>.] - ETA: 0s - loss: 0.1204 - acc: 0.9573\n",
            "Epoch 00029: val_loss did not improve\n",
            "119678/119678 [==============================]119678/119678 [==============================] - 26s 221us/step - loss: 0.1204 - acc: 0.9573 - val_loss: 0.1509 - val_acc: 0.9474\n",
            "\n",
            "Epoch 30/100\n",
            " 35648/119678 [=======>......................] 35648/119678 [=======>......................] - ETA: 16s - loss: 0.1156 - acc: 0.9593"
          ],
          "name": "stdout"
        },
        {
          "output_type": "stream",
          "text": [
            "119552/119678 [============================>.]119552/119678 [============================>.] - ETA: 0s - loss: 0.1197 - acc: 0.9575\n",
            "Epoch 00030: val_loss did not improve\n",
            "119678/119678 [==============================]119678/119678 [==============================] - 27s 222us/step - loss: 0.1198 - acc: 0.9575 - val_loss: 0.1502 - val_acc: 0.9486\n",
            "\n",
            "Epoch 31/100\n",
            " 35776/119678 [=======>......................] 35776/119678 [=======>......................] - ETA: 16s - loss: 0.1190 - acc: 0.9585"
          ],
          "name": "stdout"
        },
        {
          "output_type": "stream",
          "text": [
            "119616/119678 [============================>.]119616/119678 [============================>.] - ETA: 0s - loss: 0.1199 - acc: 0.9576\n",
            "Epoch 00031: val_loss did not improve\n",
            "119678/119678 [==============================]119678/119678 [==============================] - 26s 220us/step - loss: 0.1200 - acc: 0.9576 - val_loss: 0.1504 - val_acc: 0.9484\n",
            "\n",
            "Epoch 32/100\n",
            " 36096/119678 [========>.....................] 36096/119678 [========>.....................] - ETA: 16s - loss: 0.1156 - acc: 0.9599"
          ],
          "name": "stdout"
        },
        {
          "output_type": "stream",
          "text": [
            "119488/119678 [============================>.]119488/119678 [============================>.] - ETA: 0s - loss: 0.1195 - acc: 0.9578\n",
            "Epoch 00032: val_loss did not improve\n",
            "119678/119678 [==============================]119678/119678 [==============================] - 27s 222us/step - loss: 0.1195 - acc: 0.9578 - val_loss: 0.1513 - val_acc: 0.9484\n",
            "\n",
            "Epoch 33/100\n",
            " 35968/119678 [========>.....................] 35968/119678 [========>.....................] - ETA: 16s - loss: 0.1161 - acc: 0.9587"
          ],
          "name": "stdout"
        },
        {
          "output_type": "stream",
          "text": [
            "119424/119678 [============================>.]119424/119678 [============================>.] - ETA: 0s - loss: 0.1195 - acc: 0.9581\n",
            "Epoch 00033: val_loss did not improve\n",
            "119678/119678 [==============================]119678/119678 [==============================] - 26s 221us/step - loss: 0.1195 - acc: 0.9580 - val_loss: 0.1514 - val_acc: 0.9475\n",
            "\n",
            "Epoch 34/100\n",
            " 36416/119678 [========>.....................] 36416/119678 [========>.....................] - ETA: 16s - loss: 0.1130 - acc: 0.9593"
          ],
          "name": "stdout"
        },
        {
          "output_type": "stream",
          "text": [
            "119552/119678 [============================>.]119552/119678 [============================>.] - ETA: 0s - loss: 0.1192 - acc: 0.9579\n",
            "Epoch 00034: val_loss did not improve\n",
            "119678/119678 [==============================]119678/119678 [==============================] - 26s 221us/step - loss: 0.1192 - acc: 0.9579 - val_loss: 0.1512 - val_acc: 0.9483\n",
            "\n",
            "Epoch 35/100\n",
            " 37056/119678 [========>.....................] 37056/119678 [========>.....................] - ETA: 15s - loss: 0.1175 - acc: 0.9583"
          ],
          "name": "stdout"
        },
        {
          "output_type": "stream",
          "text": [
            "119360/119678 [============================>.]119360/119678 [============================>.] - ETA: 0s - loss: 0.1190 - acc: 0.9580\n",
            "Epoch 00035: val_loss did not improve\n",
            "119678/119678 [==============================]119678/119678 [==============================] - 26s 220us/step - loss: 0.1191 - acc: 0.9579 - val_loss: 0.1518 - val_acc: 0.9481\n",
            "\n",
            "Epoch 36/100\n",
            " 37184/119678 [========>.....................] 37184/119678 [========>.....................] - ETA: 16s - loss: 0.1133 - acc: 0.9587"
          ],
          "name": "stdout"
        },
        {
          "output_type": "stream",
          "text": [
            "119488/119678 [============================>.]119488/119678 [============================>.] - ETA: 0s - loss: 0.1188 - acc: 0.9580\n",
            "Epoch 00036: val_loss did not improve\n",
            "119678/119678 [==============================]119678/119678 [==============================] - 26s 220us/step - loss: 0.1188 - acc: 0.9580 - val_loss: 0.1511 - val_acc: 0.9485\n",
            "\n",
            "Epoch 37/100\n",
            " 37312/119678 [========>.....................] 37312/119678 [========>.....................] - ETA: 15s - loss: 0.1176 - acc: 0.9577"
          ],
          "name": "stdout"
        },
        {
          "output_type": "stream",
          "text": [
            "119488/119678 [============================>.]119488/119678 [============================>.] - ETA: 0s - loss: 0.1189 - acc: 0.9579\n",
            "Epoch 00037: val_loss did not improve\n",
            "119678/119678 [==============================]119678/119678 [==============================] - 26s 221us/step - loss: 0.1189 - acc: 0.9579 - val_loss: 0.1517 - val_acc: 0.9481\n",
            "\n",
            "Epoch 38/100\n",
            " 36800/119678 [========>.....................] 36800/119678 [========>.....................] - ETA: 16s - loss: 0.1162 - acc: 0.9595"
          ],
          "name": "stdout"
        },
        {
          "output_type": "stream",
          "text": [
            "119552/119678 [============================>.]119552/119678 [============================>.] - ETA: 0s - loss: 0.1186 - acc: 0.9583\n",
            "Epoch 00038: val_loss did not improve\n",
            "119678/119678 [==============================]119678/119678 [==============================] - 26s 221us/step - loss: 0.1186 - acc: 0.9583 - val_loss: 0.1509 - val_acc: 0.9482\n",
            "\n",
            "Epoch 39/100\n",
            " 36672/119678 [========>.....................] 36672/119678 [========>.....................] - ETA: 16s - loss: 0.1148 - acc: 0.9593"
          ],
          "name": "stdout"
        },
        {
          "output_type": "stream",
          "text": [
            "119616/119678 [============================>.]119616/119678 [============================>.] - ETA: 0s - loss: 0.1186 - acc: 0.9581\n",
            "Epoch 00039: val_loss did not improve\n",
            "119678/119678 [==============================]119678/119678 [==============================] - 26s 220us/step - loss: 0.1186 - acc: 0.9581 - val_loss: 0.1517 - val_acc: 0.9479\n",
            "\n",
            "Epoch 40/100\n",
            " 37184/119678 [========>.....................] 37184/119678 [========>.....................] - ETA: 16s - loss: 0.1168 - acc: 0.9586"
          ],
          "name": "stdout"
        },
        {
          "output_type": "stream",
          "text": [
            "119360/119678 [============================>.]119360/119678 [============================>.] - ETA: 0s - loss: 0.1186 - acc: 0.9576\n",
            "Epoch 00040: val_loss did not improve\n",
            "119678/119678 [==============================]119678/119678 [==============================] - 26s 220us/step - loss: 0.1186 - acc: 0.9576 - val_loss: 0.1512 - val_acc: 0.9483\n",
            "\n",
            "Epoch 41/100\n",
            " 36992/119678 [========>.....................] 36992/119678 [========>.....................] - ETA: 16s - loss: 0.1192 - acc: 0.9581"
          ],
          "name": "stdout"
        },
        {
          "output_type": "stream",
          "text": [
            "119616/119678 [============================>.]119616/119678 [============================>.] - ETA: 0s - loss: 0.1184 - acc: 0.9580\n",
            "Epoch 00041: val_loss did not improve\n",
            "119678/119678 [==============================]119678/119678 [==============================] - 26s 220us/step - loss: 0.1184 - acc: 0.9580 - val_loss: 0.1511 - val_acc: 0.9478\n",
            "\n",
            "Epoch 42/100\n",
            " 37248/119678 [========>.....................] 37248/119678 [========>.....................] - ETA: 15s - loss: 0.1159 - acc: 0.9594"
          ],
          "name": "stdout"
        },
        {
          "output_type": "stream",
          "text": [
            "119552/119678 [============================>.]119552/119678 [============================>.] - ETA: 0s - loss: 0.1180 - acc: 0.9583\n",
            "Epoch 00042: val_loss did not improve\n",
            "119678/119678 [==============================]119678/119678 [==============================] - 26s 221us/step - loss: 0.1180 - acc: 0.9583 - val_loss: 0.1514 - val_acc: 0.9484\n",
            "\n",
            "Epoch 43/100\n",
            " 37696/119678 [========>.....................] 37696/119678 [========>.....................] - ETA: 15s - loss: 0.1117 - acc: 0.9600"
          ],
          "name": "stdout"
        },
        {
          "output_type": "stream",
          "text": [
            "119488/119678 [============================>.]119488/119678 [============================>.] - ETA: 0s - loss: 0.1182 - acc: 0.9583\n",
            "Epoch 00043: val_loss did not improve\n",
            "119678/119678 [==============================]119678/119678 [==============================] - 26s 220us/step - loss: 0.1182 - acc: 0.9583 - val_loss: 0.1518 - val_acc: 0.9484\n",
            "\n",
            "Epoch 44/100\n",
            " 37760/119678 [========>.....................] 37760/119678 [========>.....................] - ETA: 15s - loss: 0.1164 - acc: 0.9588"
          ],
          "name": "stdout"
        },
        {
          "output_type": "stream",
          "text": [
            "119616/119678 [============================>.]119616/119678 [============================>.] - ETA: 0s - loss: 0.1179 - acc: 0.9586\n",
            "Epoch 00044: val_loss did not improve\n",
            "119678/119678 [==============================]119678/119678 [==============================] - 26s 220us/step - loss: 0.1179 - acc: 0.9587 - val_loss: 0.1521 - val_acc: 0.9482\n",
            "\n",
            "Epoch 45/100\n",
            " 37376/119678 [========>.....................] 37376/119678 [========>.....................] - ETA: 15s - loss: 0.1129 - acc: 0.9604"
          ],
          "name": "stdout"
        },
        {
          "output_type": "stream",
          "text": [
            "119488/119678 [============================>.]119488/119678 [============================>.] - ETA: 0s - loss: 0.1178 - acc: 0.9584\n",
            "Epoch 00045: val_loss did not improve\n",
            "119678/119678 [==============================]119678/119678 [==============================] - 26s 220us/step - loss: 0.1177 - acc: 0.9584 - val_loss: 0.1526 - val_acc: 0.9488\n",
            "\n",
            "Epoch 46/100\n",
            " 36864/119678 [========>.....................] 36864/119678 [========>.....................] - ETA: 16s - loss: 0.1169 - acc: 0.9594"
          ],
          "name": "stdout"
        },
        {
          "output_type": "stream",
          "text": [
            "119616/119678 [============================>.]119616/119678 [============================>.] - ETA: 0s - loss: 0.1177 - acc: 0.9588\n",
            "Epoch 00046: val_loss did not improve\n",
            "119678/119678 [==============================]119678/119678 [==============================] - 26s 220us/step - loss: 0.1177 - acc: 0.9589 - val_loss: 0.1533 - val_acc: 0.9480\n",
            "\n",
            "Epoch 47/100\n",
            " 37440/119678 [========>.....................] 37440/119678 [========>.....................] - ETA: 15s - loss: 0.1139 - acc: 0.9602"
          ],
          "name": "stdout"
        },
        {
          "output_type": "stream",
          "text": [
            "119616/119678 [============================>.]119616/119678 [============================>.] - ETA: 0s - loss: 0.1176 - acc: 0.9589\n",
            "Epoch 00047: val_loss did not improve\n",
            "119678/119678 [==============================]119678/119678 [==============================] - 26s 220us/step - loss: 0.1176 - acc: 0.9588 - val_loss: 0.1539 - val_acc: 0.9479\n",
            "\n",
            "Epoch 48/100\n",
            " 36800/119678 [========>.....................] 36800/119678 [========>.....................] - ETA: 16s - loss: 0.1162 - acc: 0.9585"
          ],
          "name": "stdout"
        },
        {
          "output_type": "stream",
          "text": [
            "119616/119678 [============================>.]119616/119678 [============================>.] - ETA: 0s - loss: 0.1176 - acc: 0.9585\n",
            "Epoch 00048: val_loss did not improve\n",
            "119678/119678 [==============================]119678/119678 [==============================] - 26s 221us/step - loss: 0.1175 - acc: 0.9585 - val_loss: 0.1528 - val_acc: 0.9478\n",
            "\n",
            "Epoch 49/100\n",
            " 37376/119678 [========>.....................] 37376/119678 [========>.....................] - ETA: 15s - loss: 0.1179 - acc: 0.9589"
          ],
          "name": "stdout"
        },
        {
          "output_type": "stream",
          "text": [
            "119360/119678 [============================>.]119360/119678 [============================>.] - ETA: 0s - loss: 0.1173 - acc: 0.9585\n",
            "Epoch 00049: val_loss did not improve\n",
            "119678/119678 [==============================]119678/119678 [==============================] - 26s 220us/step - loss: 0.1174 - acc: 0.9585 - val_loss: 0.1527 - val_acc: 0.9476\n",
            "\n",
            "Epoch 50/100\n",
            " 36416/119678 [========>.....................] 36416/119678 [========>.....................] - ETA: 16s - loss: 0.1166 - acc: 0.9596"
          ],
          "name": "stdout"
        },
        {
          "output_type": "stream",
          "text": [
            "119424/119678 [============================>.]119424/119678 [============================>.] - ETA: 0s - loss: 0.1173 - acc: 0.9586\n",
            "Epoch 00050: val_loss did not improve\n",
            "119678/119678 [==============================]119678/119678 [==============================] - 26s 221us/step - loss: 0.1173 - acc: 0.9586 - val_loss: 0.1538 - val_acc: 0.9477\n",
            "\n",
            "Epoch 51/100\n",
            " 36608/119678 [========>.....................] 36608/119678 [========>.....................] - ETA: 16s - loss: 0.1141 - acc: 0.9598"
          ],
          "name": "stdout"
        },
        {
          "output_type": "stream",
          "text": [
            "119552/119678 [============================>.]119552/119678 [============================>.] - ETA: 0s - loss: 0.1172 - acc: 0.9582\n",
            "Epoch 00051: val_loss did not improve\n",
            "119678/119678 [==============================]119678/119678 [==============================] - 26s 220us/step - loss: 0.1173 - acc: 0.9582 - val_loss: 0.1531 - val_acc: 0.9476\n",
            "\n",
            "Epoch 52/100\n",
            " 36416/119678 [========>.....................] 36416/119678 [========>.....................] - ETA: 16s - loss: 0.1176 - acc: 0.9582"
          ],
          "name": "stdout"
        },
        {
          "output_type": "stream",
          "text": [
            "119552/119678 [============================>.]119552/119678 [============================>.] - ETA: 0s - loss: 0.1172 - acc: 0.9587\n",
            "Epoch 00052: val_loss did not improve\n",
            "119678/119678 [==============================]119678/119678 [==============================] - 27s 222us/step - loss: 0.1173 - acc: 0.9587 - val_loss: 0.1525 - val_acc: 0.9475\n",
            "\n",
            "Epoch 53/100\n",
            " 35776/119678 [=======>......................] 35776/119678 [=======>......................] - ETA: 16s - loss: 0.1115 - acc: 0.9612"
          ],
          "name": "stdout"
        },
        {
          "output_type": "stream",
          "text": [
            "119616/119678 [============================>.]119616/119678 [============================>.] - ETA: 0s - loss: 0.1171 - acc: 0.9587\n",
            "Epoch 00053: val_loss did not improve\n",
            "119678/119678 [==============================]119678/119678 [==============================] - 26s 221us/step - loss: 0.1171 - acc: 0.9587 - val_loss: 0.1532 - val_acc: 0.9483\n",
            "\n",
            "Epoch 54/100\n",
            " 35840/119678 [=======>......................] 35840/119678 [=======>......................] - ETA: 16s - loss: 0.1144 - acc: 0.9600"
          ],
          "name": "stdout"
        },
        {
          "output_type": "stream",
          "text": [
            "119424/119678 [============================>.]119424/119678 [============================>.] - ETA: 0s - loss: 0.1168 - acc: 0.9589\n",
            "Epoch 00054: val_loss did not improve\n",
            "119678/119678 [==============================]119678/119678 [==============================] - 27s 221us/step - loss: 0.1168 - acc: 0.9589 - val_loss: 0.1528 - val_acc: 0.9478\n",
            "\n",
            "Epoch 55/100\n",
            " 36672/119678 [========>.....................] 36672/119678 [========>.....................] - ETA: 16s - loss: 0.1111 - acc: 0.9605"
          ],
          "name": "stdout"
        },
        {
          "output_type": "stream",
          "text": [
            "119424/119678 [============================>.]119424/119678 [============================>.] - ETA: 0s - loss: 0.1168 - acc: 0.9588\n",
            "Epoch 00055: val_loss did not improve\n",
            "119678/119678 [==============================]119678/119678 [==============================] - 26s 220us/step - loss: 0.1168 - acc: 0.9588 - val_loss: 0.1560 - val_acc: 0.9465\n",
            "\n",
            "Epoch 56/100\n",
            " 37376/119678 [========>.....................] 37376/119678 [========>.....................] - ETA: 15s - loss: 0.1149 - acc: 0.9598"
          ],
          "name": "stdout"
        },
        {
          "output_type": "stream",
          "text": [
            "119488/119678 [============================>.]119488/119678 [============================>.] - ETA: 0s - loss: 0.1168 - acc: 0.9586\n",
            "Epoch 00056: val_loss did not improve\n",
            "119678/119678 [==============================]119678/119678 [==============================] - 27s 222us/step - loss: 0.1168 - acc: 0.9586 - val_loss: 0.1535 - val_acc: 0.9474\n",
            "\n",
            "Epoch 57/100\n",
            " 37760/119678 [========>.....................] 37760/119678 [========>.....................] - ETA: 15s - loss: 0.1125 - acc: 0.9603"
          ],
          "name": "stdout"
        },
        {
          "output_type": "stream",
          "text": [
            "119360/119678 [============================>.]119360/119678 [============================>.] - ETA: 0s - loss: 0.1168 - acc: 0.9586\n",
            "Epoch 00057: val_loss did not improve\n",
            "119678/119678 [==============================]119678/119678 [==============================] - 26s 221us/step - loss: 0.1167 - acc: 0.9586 - val_loss: 0.1554 - val_acc: 0.9478\n",
            "\n",
            "Epoch 58/100\n",
            " 36160/119678 [========>.....................] 36160/119678 [========>.....................] - ETA: 16s - loss: 0.1184 - acc: 0.9586"
          ],
          "name": "stdout"
        },
        {
          "output_type": "stream",
          "text": [
            "119424/119678 [============================>.]119424/119678 [============================>.] - ETA: 0s - loss: 0.1168 - acc: 0.9588\n",
            "Epoch 00058: val_loss did not improve\n",
            "119678/119678 [==============================]119678/119678 [==============================] - 27s 223us/step - loss: 0.1167 - acc: 0.9588 - val_loss: 0.1543 - val_acc: 0.9476\n",
            "\n",
            "Epoch 59/100\n",
            " 35072/119678 [=======>......................] 35072/119678 [=======>......................] - ETA: 16s - loss: 0.1112 - acc: 0.9604"
          ],
          "name": "stdout"
        },
        {
          "output_type": "stream",
          "text": [
            "119424/119678 [============================>.]119424/119678 [============================>.] - ETA: 0s - loss: 0.1167 - acc: 0.9587\n",
            "Epoch 00059: val_loss did not improve\n",
            "119678/119678 [==============================]119678/119678 [==============================] - 27s 224us/step - loss: 0.1167 - acc: 0.9587 - val_loss: 0.1522 - val_acc: 0.9473\n",
            "\n",
            "Epoch 60/100\n",
            " 35136/119678 [=======>......................] 35136/119678 [=======>......................] - ETA: 16s - loss: 0.1164 - acc: 0.9588"
          ],
          "name": "stdout"
        },
        {
          "output_type": "stream",
          "text": [
            "119360/119678 [============================>.]119360/119678 [============================>.] - ETA: 0s - loss: 0.1165 - acc: 0.9590\n",
            "Epoch 00060: val_loss did not improve\n",
            "119678/119678 [==============================]119678/119678 [==============================] - 27s 222us/step - loss: 0.1165 - acc: 0.9590 - val_loss: 0.1562 - val_acc: 0.9461\n",
            "\n",
            "Epoch 61/100\n",
            " 35584/119678 [=======>......................] 35584/119678 [=======>......................] - ETA: 16s - loss: 0.1141 - acc: 0.9600"
          ],
          "name": "stdout"
        },
        {
          "output_type": "stream",
          "text": [
            "119424/119678 [============================>.]119424/119678 [============================>.] - ETA: 0s - loss: 0.1166 - acc: 0.9588\n",
            "Epoch 00061: val_loss did not improve\n",
            "119678/119678 [==============================]119678/119678 [==============================] - 27s 224us/step - loss: 0.1166 - acc: 0.9588 - val_loss: 0.1527 - val_acc: 0.9485\n",
            "\n",
            "Epoch 62/100\n",
            " 34048/119678 [=======>......................] 34048/119678 [=======>......................] - ETA: 17s - loss: 0.1146 - acc: 0.9607"
          ],
          "name": "stdout"
        },
        {
          "output_type": "stream",
          "text": [
            "119616/119678 [============================>.]119616/119678 [============================>.] - ETA: 0s - loss: 0.1163 - acc: 0.9592\n",
            "Epoch 00062: val_loss did not improve\n",
            "119678/119678 [==============================]119678/119678 [==============================] - 27s 224us/step - loss: 0.1163 - acc: 0.9592 - val_loss: 0.1557 - val_acc: 0.9468\n",
            "\n",
            "Epoch 63/100\n",
            " 33728/119678 [=======>......................] 33728/119678 [=======>......................] - ETA: 17s - loss: 0.1127 - acc: 0.9609"
          ],
          "name": "stdout"
        },
        {
          "output_type": "stream",
          "text": [
            "119424/119678 [============================>.]119424/119678 [============================>.] - ETA: 0s - loss: 0.1163 - acc: 0.9590\n",
            "Epoch 00063: val_loss did not improve\n",
            "119678/119678 [==============================]119678/119678 [==============================] - 27s 224us/step - loss: 0.1162 - acc: 0.9590 - val_loss: 0.1542 - val_acc: 0.9478\n",
            "\n",
            "Epoch 64/100\n",
            " 33216/119678 [=======>......................] 33216/119678 [=======>......................] - ETA: 17s - loss: 0.1172 - acc: 0.9591"
          ],
          "name": "stdout"
        },
        {
          "output_type": "stream",
          "text": [
            "119616/119678 [============================>.]119616/119678 [============================>.] - ETA: 0s - loss: 0.1163 - acc: 0.9591\n",
            "Epoch 00064: val_loss did not improve\n",
            "119678/119678 [==============================]119678/119678 [==============================] - 27s 224us/step - loss: 0.1163 - acc: 0.9591 - val_loss: 0.1548 - val_acc: 0.9475\n",
            "\n",
            "Epoch 65/100\n",
            " 34048/119678 [=======>......................] 34048/119678 [=======>......................] - ETA: 16s - loss: 0.1122 - acc: 0.9606"
          ],
          "name": "stdout"
        },
        {
          "output_type": "stream",
          "text": [
            "119488/119678 [============================>.]119488/119678 [============================>.] - ETA: 0s - loss: 0.1163 - acc: 0.9590\n",
            "Epoch 00065: val_loss did not improve\n",
            "119678/119678 [==============================]119678/119678 [==============================] - 27s 224us/step - loss: 0.1162 - acc: 0.9591 - val_loss: 0.1529 - val_acc: 0.9483\n",
            "\n",
            "Epoch 66/100\n",
            " 34304/119678 [=======>......................] 34304/119678 [=======>......................] - ETA: 16s - loss: 0.1122 - acc: 0.9606"
          ],
          "name": "stdout"
        },
        {
          "output_type": "stream",
          "text": [
            "119488/119678 [============================>.]119488/119678 [============================>.] - ETA: 0s - loss: 0.1161 - acc: 0.9591\n",
            "Epoch 00066: val_loss did not improve\n",
            "119678/119678 [==============================]119678/119678 [==============================] - 27s 225us/step - loss: 0.1160 - acc: 0.9591 - val_loss: 0.1546 - val_acc: 0.9474\n",
            "\n",
            "Epoch 67/100\n",
            " 34240/119678 [=======>......................] 34240/119678 [=======>......................] - ETA: 16s - loss: 0.1134 - acc: 0.9594"
          ],
          "name": "stdout"
        },
        {
          "output_type": "stream",
          "text": [
            "119552/119678 [============================>.]119552/119678 [============================>.] - ETA: 0s - loss: 0.1160 - acc: 0.9590\n",
            "Epoch 00067: val_loss did not improve\n",
            "119678/119678 [==============================]119678/119678 [==============================] - 27s 223us/step - loss: 0.1160 - acc: 0.9590 - val_loss: 0.1527 - val_acc: 0.9482\n",
            "\n",
            "Epoch 68/100\n",
            " 34112/119678 [=======>......................] 34112/119678 [=======>......................] - ETA: 16s - loss: 0.1149 - acc: 0.9590"
          ],
          "name": "stdout"
        },
        {
          "output_type": "stream",
          "text": [
            "119360/119678 [============================>.]119360/119678 [============================>.] - ETA: 0s - loss: 0.1161 - acc: 0.9589\n",
            "Epoch 00068: val_loss did not improve\n",
            "119678/119678 [==============================]119678/119678 [==============================] - 27s 224us/step - loss: 0.1160 - acc: 0.9589 - val_loss: 0.1538 - val_acc: 0.9474\n",
            "\n",
            "Epoch 69/100\n",
            " 34816/119678 [=======>......................] 34816/119678 [=======>......................] - ETA: 16s - loss: 0.1106 - acc: 0.9608"
          ],
          "name": "stdout"
        },
        {
          "output_type": "stream",
          "text": [
            "119616/119678 [============================>.]119616/119678 [============================>.] - ETA: 0s - loss: 0.1159 - acc: 0.9590\n",
            "Epoch 00069: val_loss did not improve\n",
            "119678/119678 [==============================]119678/119678 [==============================] - 27s 222us/step - loss: 0.1159 - acc: 0.9590 - val_loss: 0.1540 - val_acc: 0.9477\n",
            "\n",
            "Epoch 70/100\n",
            " 33600/119678 [=======>......................] 33600/119678 [=======>......................] - ETA: 17s - loss: 0.1157 - acc: 0.9587"
          ],
          "name": "stdout"
        },
        {
          "output_type": "stream",
          "text": [
            "119424/119678 [============================>.]119424/119678 [============================>.] - ETA: 0s - loss: 0.1159 - acc: 0.9592\n",
            "Epoch 00070: val_loss did not improve\n",
            "119678/119678 [==============================]119678/119678 [==============================] - 27s 223us/step - loss: 0.1158 - acc: 0.9592 - val_loss: 0.1537 - val_acc: 0.9476\n",
            "\n",
            "Epoch 71/100\n",
            " 34688/119678 [=======>......................] 34688/119678 [=======>......................] - ETA: 16s - loss: 0.1169 - acc: 0.9594"
          ],
          "name": "stdout"
        },
        {
          "output_type": "stream",
          "text": [
            "119360/119678 [============================>.]119360/119678 [============================>.] - ETA: 0s - loss: 0.1158 - acc: 0.9589\n",
            "Epoch 00071: val_loss did not improve\n",
            "119678/119678 [==============================]119678/119678 [==============================] - 27s 222us/step - loss: 0.1157 - acc: 0.9589 - val_loss: 0.1535 - val_acc: 0.9478\n",
            "\n",
            "Epoch 72/100\n",
            " 34944/119678 [=======>......................] 34944/119678 [=======>......................] - ETA: 16s - loss: 0.1137 - acc: 0.9598"
          ],
          "name": "stdout"
        },
        {
          "output_type": "stream",
          "text": [
            "119360/119678 [============================>.]119360/119678 [============================>.] - ETA: 0s - loss: 0.1156 - acc: 0.9593\n",
            "Epoch 00072: val_loss did not improve\n",
            "119678/119678 [==============================]119678/119678 [==============================] - 27s 223us/step - loss: 0.1156 - acc: 0.9593 - val_loss: 0.1539 - val_acc: 0.9469\n",
            "\n",
            "Epoch 73/100\n",
            " 35520/119678 [=======>......................] 35520/119678 [=======>......................] - ETA: 16s - loss: 0.1148 - acc: 0.9601"
          ],
          "name": "stdout"
        },
        {
          "output_type": "stream",
          "text": [
            "119616/119678 [============================>.]119616/119678 [============================>.] - ETA: 0s - loss: 0.1158 - acc: 0.9591\n",
            "Epoch 00073: val_loss did not improve\n",
            "119678/119678 [==============================]119678/119678 [==============================] - 27s 222us/step - loss: 0.1158 - acc: 0.9591 - val_loss: 0.1533 - val_acc: 0.9478\n",
            "\n",
            "Epoch 74/100\n",
            " 35136/119678 [=======>......................] 35136/119678 [=======>......................] - ETA: 16s - loss: 0.1162 - acc: 0.9587"
          ],
          "name": "stdout"
        },
        {
          "output_type": "stream",
          "text": [
            "119616/119678 [============================>.]119616/119678 [============================>.] - ETA: 0s - loss: 0.1157 - acc: 0.9591\n",
            "Epoch 00074: val_loss did not improve\n",
            "119678/119678 [==============================]119678/119678 [==============================] - 27s 224us/step - loss: 0.1157 - acc: 0.9591 - val_loss: 0.1538 - val_acc: 0.9470\n",
            "\n",
            "Epoch 75/100\n",
            " 33792/119678 [=======>......................] 33792/119678 [=======>......................] - ETA: 17s - loss: 0.1136 - acc: 0.9610"
          ],
          "name": "stdout"
        },
        {
          "output_type": "stream",
          "text": [
            "119552/119678 [============================>.]119552/119678 [============================>.] - ETA: 0s - loss: 0.1154 - acc: 0.9593\n",
            "Epoch 00075: val_loss did not improve\n",
            "119678/119678 [==============================]119678/119678 [==============================] - 27s 226us/step - loss: 0.1155 - acc: 0.9593 - val_loss: 0.1546 - val_acc: 0.9477\n",
            "\n",
            "Epoch 76/100\n",
            " 33344/119678 [=======>......................] 33344/119678 [=======>......................] - ETA: 17s - loss: 0.1138 - acc: 0.9601"
          ],
          "name": "stdout"
        },
        {
          "output_type": "stream",
          "text": [
            "119488/119678 [============================>.]119488/119678 [============================>.] - ETA: 0s - loss: 0.1155 - acc: 0.9593\n",
            "Epoch 00076: val_loss did not improve\n",
            "119678/119678 [==============================]119678/119678 [==============================] - 27s 224us/step - loss: 0.1156 - acc: 0.9592 - val_loss: 0.1548 - val_acc: 0.9478\n",
            "\n",
            "Epoch 77/100\n",
            " 34304/119678 [=======>......................] 34304/119678 [=======>......................] - ETA: 16s - loss: 0.1118 - acc: 0.9613"
          ],
          "name": "stdout"
        },
        {
          "output_type": "stream",
          "text": [
            "119424/119678 [============================>.]119424/119678 [============================>.] - ETA: 0s - loss: 0.1154 - acc: 0.9594\n",
            "Epoch 00077: val_loss did not improve\n",
            "119678/119678 [==============================]119678/119678 [==============================] - 27s 224us/step - loss: 0.1154 - acc: 0.9594 - val_loss: 0.1538 - val_acc: 0.9476\n",
            "\n",
            "Epoch 78/100\n",
            " 34816/119678 [=======>......................] 34816/119678 [=======>......................] - ETA: 16s - loss: 0.1131 - acc: 0.9596"
          ],
          "name": "stdout"
        },
        {
          "output_type": "stream",
          "text": [
            "119424/119678 [============================>.]119424/119678 [============================>.] - ETA: 0s - loss: 0.1153 - acc: 0.9590\n",
            "Epoch 00078: val_loss did not improve\n",
            "119678/119678 [==============================]119678/119678 [==============================] - 27s 222us/step - loss: 0.1153 - acc: 0.9590 - val_loss: 0.1568 - val_acc: 0.9459\n",
            "\n",
            "Epoch 79/100\n",
            " 35008/119678 [=======>......................] 35008/119678 [=======>......................] - ETA: 16s - loss: 0.1138 - acc: 0.9598"
          ],
          "name": "stdout"
        },
        {
          "output_type": "stream",
          "text": [
            "119616/119678 [============================>.]119616/119678 [============================>.] - ETA: 0s - loss: 0.1152 - acc: 0.9595\n",
            "Epoch 00079: val_loss did not improve\n",
            "119678/119678 [==============================]119678/119678 [==============================] - 27s 222us/step - loss: 0.1152 - acc: 0.9595 - val_loss: 0.1547 - val_acc: 0.9474\n",
            "\n",
            "Epoch 80/100\n",
            " 34880/119678 [=======>......................] 34880/119678 [=======>......................] - ETA: 16s - loss: 0.1109 - acc: 0.9610"
          ],
          "name": "stdout"
        },
        {
          "output_type": "stream",
          "text": [
            "119488/119678 [============================>.]119488/119678 [============================>.] - ETA: 0s - loss: 0.1153 - acc: 0.9596\n",
            "Epoch 00080: val_loss did not improve\n",
            "119678/119678 [==============================]119678/119678 [==============================] - 27s 222us/step - loss: 0.1153 - acc: 0.9596 - val_loss: 0.1553 - val_acc: 0.9476\n",
            "\n",
            "Epoch 81/100\n",
            " 33280/119678 [=======>......................] 33280/119678 [=======>......................] - ETA: 17s - loss: 0.1168 - acc: 0.9592"
          ],
          "name": "stdout"
        },
        {
          "output_type": "stream",
          "text": [
            "119424/119678 [============================>.]119424/119678 [============================>.] - ETA: 0s - loss: 0.1152 - acc: 0.9595\n",
            "Epoch 00081: val_loss did not improve\n",
            "119678/119678 [==============================]119678/119678 [==============================] - 27s 224us/step - loss: 0.1152 - acc: 0.9594 - val_loss: 0.1546 - val_acc: 0.9479\n",
            "\n",
            "Epoch 82/100\n",
            " 34176/119678 [=======>......................] 34176/119678 [=======>......................] - ETA: 16s - loss: 0.1108 - acc: 0.9605"
          ],
          "name": "stdout"
        },
        {
          "output_type": "stream",
          "text": [
            "119424/119678 [============================>.]119424/119678 [============================>.] - ETA: 0s - loss: 0.1152 - acc: 0.9594\n",
            "Epoch 00082: val_loss did not improve\n",
            "119678/119678 [==============================]119678/119678 [==============================] - 27s 223us/step - loss: 0.1152 - acc: 0.9594 - val_loss: 0.1553 - val_acc: 0.9475\n",
            "\n",
            "Epoch 83/100\n",
            " 34496/119678 [=======>......................] 34496/119678 [=======>......................] - ETA: 16s - loss: 0.1117 - acc: 0.9605"
          ],
          "name": "stdout"
        },
        {
          "output_type": "stream",
          "text": [
            "119552/119678 [============================>.]119552/119678 [============================>.] - ETA: 0s - loss: 0.1150 - acc: 0.9596\n",
            "Epoch 00083: val_loss did not improve\n",
            "119678/119678 [==============================]119678/119678 [==============================] - 27s 224us/step - loss: 0.1149 - acc: 0.9596 - val_loss: 0.1548 - val_acc: 0.9475\n",
            "\n",
            "Epoch 84/100\n",
            " 34816/119678 [=======>......................] 34816/119678 [=======>......................] - ETA: 16s - loss: 0.1116 - acc: 0.9613"
          ],
          "name": "stdout"
        },
        {
          "output_type": "stream",
          "text": [
            "119360/119678 [============================>.]119360/119678 [============================>.] - ETA: 0s - loss: 0.1150 - acc: 0.9596\n",
            "Epoch 00084: val_loss did not improve\n",
            "119678/119678 [==============================]119678/119678 [==============================] - 27s 223us/step - loss: 0.1149 - acc: 0.9596 - val_loss: 0.1561 - val_acc: 0.9469\n",
            "\n",
            "Epoch 85/100\n",
            " 35776/119678 [=======>......................] 35776/119678 [=======>......................] - ETA: 16s - loss: 0.1143 - acc: 0.9600"
          ],
          "name": "stdout"
        },
        {
          "output_type": "stream",
          "text": [
            "119616/119678 [============================>.]119616/119678 [============================>.] - ETA: 0s - loss: 0.1150 - acc: 0.9594\n",
            "Epoch 00085: val_loss did not improve\n",
            "119678/119678 [==============================]119678/119678 [==============================] - 27s 223us/step - loss: 0.1150 - acc: 0.9593 - val_loss: 0.1556 - val_acc: 0.9472\n",
            "\n",
            "Epoch 86/100\n",
            " 35840/119678 [=======>......................] 35840/119678 [=======>......................] - ETA: 16s - loss: 0.1152 - acc: 0.9609"
          ],
          "name": "stdout"
        },
        {
          "output_type": "stream",
          "text": [
            "119424/119678 [============================>.]119424/119678 [============================>.] - ETA: 0s - loss: 0.1149 - acc: 0.9595\n",
            "Epoch 00086: val_loss did not improve\n",
            "119678/119678 [==============================]119678/119678 [==============================] - 27s 222us/step - loss: 0.1149 - acc: 0.9595 - val_loss: 0.1555 - val_acc: 0.9475\n",
            "\n",
            "Epoch 87/100\n",
            " 34560/119678 [=======>......................] 34560/119678 [=======>......................] - ETA: 16s - loss: 0.1129 - acc: 0.9602"
          ],
          "name": "stdout"
        },
        {
          "output_type": "stream",
          "text": [
            "119552/119678 [============================>.]119552/119678 [============================>.] - ETA: 0s - loss: 0.1148 - acc: 0.9592\n",
            "Epoch 00087: val_loss did not improve\n",
            "119678/119678 [==============================]119678/119678 [==============================] - 27s 223us/step - loss: 0.1148 - acc: 0.9592 - val_loss: 0.1558 - val_acc: 0.9469\n",
            "\n",
            "Epoch 88/100\n",
            " 34752/119678 [=======>......................] 34752/119678 [=======>......................] - ETA: 16s - loss: 0.1130 - acc: 0.9608"
          ],
          "name": "stdout"
        },
        {
          "output_type": "stream",
          "text": [
            "119488/119678 [============================>.]119488/119678 [============================>.] - ETA: 0s - loss: 0.1149 - acc: 0.9595\n",
            "Epoch 00088: val_loss did not improve\n",
            "119678/119678 [==============================]119678/119678 [==============================] - 27s 222us/step - loss: 0.1149 - acc: 0.9595 - val_loss: 0.1577 - val_acc: 0.9467\n",
            "\n",
            "Epoch 89/100\n",
            " 34176/119678 [=======>......................] 34176/119678 [=======>......................] - ETA: 16s - loss: 0.1152 - acc: 0.9597"
          ],
          "name": "stdout"
        },
        {
          "output_type": "stream",
          "text": [
            "119552/119678 [============================>.]119552/119678 [============================>.] - ETA: 0s - loss: 0.1149 - acc: 0.9596\n",
            "Epoch 00089: val_loss did not improve\n",
            "119678/119678 [==============================]119678/119678 [==============================] - 27s 224us/step - loss: 0.1149 - acc: 0.9596 - val_loss: 0.1554 - val_acc: 0.9476\n",
            "\n",
            "Epoch 90/100\n",
            " 33856/119678 [=======>......................] 33856/119678 [=======>......................] - ETA: 17s - loss: 0.1141 - acc: 0.9599"
          ],
          "name": "stdout"
        },
        {
          "output_type": "stream",
          "text": [
            "119552/119678 [============================>.]119552/119678 [============================>.] - ETA: 0s - loss: 0.1147 - acc: 0.9594\n",
            "Epoch 00090: val_loss did not improve\n",
            "119678/119678 [==============================]119678/119678 [==============================] - 27s 224us/step - loss: 0.1146 - acc: 0.9594 - val_loss: 0.1555 - val_acc: 0.9475\n",
            "\n",
            "Epoch 91/100\n",
            " 35072/119678 [=======>......................] 35072/119678 [=======>......................] - ETA: 16s - loss: 0.1147 - acc: 0.9590"
          ],
          "name": "stdout"
        },
        {
          "output_type": "stream",
          "text": [
            "119616/119678 [============================>.]119616/119678 [============================>.] - ETA: 0s - loss: 0.1148 - acc: 0.9595\n",
            "Epoch 00091: val_loss did not improve\n",
            "119678/119678 [==============================]119678/119678 [==============================] - 27s 224us/step - loss: 0.1148 - acc: 0.9594 - val_loss: 0.1561 - val_acc: 0.9473\n",
            "\n",
            "Epoch 92/100\n",
            " 35008/119678 [=======>......................] 35008/119678 [=======>......................] - ETA: 16s - loss: 0.1118 - acc: 0.9608"
          ],
          "name": "stdout"
        },
        {
          "output_type": "stream",
          "text": [
            "119552/119678 [============================>.]119552/119678 [============================>.] - ETA: 0s - loss: 0.1147 - acc: 0.9597\n",
            "Epoch 00092: val_loss did not improve\n",
            "119678/119678 [==============================]119678/119678 [==============================] - 27s 223us/step - loss: 0.1148 - acc: 0.9597 - val_loss: 0.1554 - val_acc: 0.9477\n",
            "\n",
            "Epoch 93/100\n",
            " 35200/119678 [=======>......................] 35200/119678 [=======>......................] - ETA: 16s - loss: 0.1086 - acc: 0.9621"
          ],
          "name": "stdout"
        },
        {
          "output_type": "stream",
          "text": [
            "119424/119678 [============================>.]119424/119678 [============================>.] - ETA: 0s - loss: 0.1146 - acc: 0.9596\n",
            "Epoch 00093: val_loss did not improve\n",
            "119678/119678 [==============================]119678/119678 [==============================] - 27s 222us/step - loss: 0.1146 - acc: 0.9596 - val_loss: 0.1564 - val_acc: 0.9474\n",
            "\n",
            "Epoch 94/100\n",
            " 35840/119678 [=======>......................] 35840/119678 [=======>......................] - ETA: 16s - loss: 0.1110 - acc: 0.9607"
          ],
          "name": "stdout"
        },
        {
          "output_type": "stream",
          "text": [
            "119424/119678 [============================>.]119424/119678 [============================>.] - ETA: 0s - loss: 0.1144 - acc: 0.9594\n",
            "Epoch 00094: val_loss did not improve\n",
            "119678/119678 [==============================]119678/119678 [==============================] - 27s 223us/step - loss: 0.1144 - acc: 0.9595 - val_loss: 0.1559 - val_acc: 0.9477\n",
            "\n",
            "Epoch 95/100\n",
            " 36288/119678 [========>.....................] 36288/119678 [========>.....................] - ETA: 16s - loss: 0.1113 - acc: 0.9613"
          ],
          "name": "stdout"
        },
        {
          "output_type": "stream",
          "text": [
            "119424/119678 [============================>.]119424/119678 [============================>.] - ETA: 0s - loss: 0.1146 - acc: 0.9594\n",
            "Epoch 00095: val_loss did not improve\n",
            "119678/119678 [==============================]119678/119678 [==============================] - 27s 222us/step - loss: 0.1146 - acc: 0.9594 - val_loss: 0.1560 - val_acc: 0.9471\n",
            "\n",
            "Epoch 96/100\n",
            " 35264/119678 [=======>......................] 35264/119678 [=======>......................] - ETA: 16s - loss: 0.1146 - acc: 0.9599"
          ],
          "name": "stdout"
        },
        {
          "output_type": "stream",
          "text": [
            "119616/119678 [============================>.]119616/119678 [============================>.] - ETA: 0s - loss: 0.1144 - acc: 0.9599\n",
            "Epoch 00096: val_loss did not improve\n",
            "119678/119678 [==============================]119678/119678 [==============================] - 27s 224us/step - loss: 0.1144 - acc: 0.9599 - val_loss: 0.1583 - val_acc: 0.9464\n",
            "\n",
            "Epoch 97/100\n",
            " 33984/119678 [=======>......................] 33984/119678 [=======>......................] - ETA: 17s - loss: 0.1131 - acc: 0.9610"
          ],
          "name": "stdout"
        },
        {
          "output_type": "stream",
          "text": [
            "119488/119678 [============================>.]119488/119678 [============================>.] - ETA: 0s - loss: 0.1144 - acc: 0.9595\n",
            "Epoch 00097: val_loss did not improve\n",
            "119678/119678 [==============================]119678/119678 [==============================] - 27s 226us/step - loss: 0.1144 - acc: 0.9595 - val_loss: 0.1562 - val_acc: 0.9466\n",
            "\n",
            "Epoch 98/100\n",
            " 34112/119678 [=======>......................] 34112/119678 [=======>......................] - ETA: 16s - loss: 0.1156 - acc: 0.9583"
          ],
          "name": "stdout"
        },
        {
          "output_type": "stream",
          "text": [
            "119424/119678 [============================>.]119424/119678 [============================>.] - ETA: 0s - loss: 0.1143 - acc: 0.9595\n",
            "Epoch 00098: val_loss did not improve\n",
            "119678/119678 [==============================]119678/119678 [==============================] - 27s 223us/step - loss: 0.1144 - acc: 0.9594 - val_loss: 0.1572 - val_acc: 0.9470\n",
            "\n",
            "Epoch 99/100\n",
            " 34624/119678 [=======>......................] 34624/119678 [=======>......................] - ETA: 16s - loss: 0.1145 - acc: 0.9589"
          ],
          "name": "stdout"
        },
        {
          "output_type": "stream",
          "text": [
            "119552/119678 [============================>.]119552/119678 [============================>.] - ETA: 0s - loss: 0.1145 - acc: 0.9595\n",
            "Epoch 00099: val_loss did not improve\n",
            "119678/119678 [==============================]119678/119678 [==============================] - 27s 222us/step - loss: 0.1145 - acc: 0.9595 - val_loss: 0.1575 - val_acc: 0.9470\n",
            "\n",
            "Epoch 100/100\n",
            " 34880/119678 [=======>......................] 34880/119678 [=======>......................] - ETA: 16s - loss: 0.1106 - acc: 0.9610"
          ],
          "name": "stdout"
        },
        {
          "output_type": "stream",
          "text": [
            "119616/119678 [============================>.]119616/119678 [============================>.] - ETA: 0s - loss: 0.1145 - acc: 0.9598\n",
            "Epoch 00100: val_loss did not improve\n",
            "119678/119678 [==============================]119678/119678 [==============================] - 27s 223us/step - loss: 0.1145 - acc: 0.9598 - val_loss: 0.1589 - val_acc: 0.9468\n",
            "\n",
            "Visualize the losses\n"
          ],
          "name": "stdout"
        },
        {
          "output_type": "display_data",
          "data": {
            "image/png": "iVBORw0KGgoAAAANSUhEUgAAAecAAAFKCAYAAAAnj5dkAAAABHNCSVQICAgIfAhkiAAAAAlwSFlz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\niGSY/x+05UX/vmYEiwAAAABJRU5ErkJggg==\n",
            "text/plain": [
              "<matplotlib.figure.Figure at 0x7fa225c10b70>"
            ]
          },
          "metadata": {
            "tags": []
          }
        }
      ]
    },
    {
      "metadata": {
        "id": "mmuQnnSU0WOu",
        "colab_type": "text"
      },
      "cell_type": "markdown",
      "source": [
        "# Multi-Label Classification Experiment"
      ]
    },
    {
      "metadata": {
        "id": "cgWk2RCJeG8X",
        "colab_type": "code",
        "colab": {
          "autoexec": {
            "startup": false,
            "wait_interval": 0
          },
          "base_uri": "https://localhost:8080/",
          "height": 8870
        },
        "outputId": "baa12501-3610-4179-8f53-38e9b8dd7932",
        "executionInfo": {
          "status": "ok",
          "timestamp": 1523449020040,
          "user_tz": -120,
          "elapsed": 2759124,
          "user": {
            "displayName": "Mahmoud Khaled",
            "photoUrl": "//lh4.googleusercontent.com/-KrdlVaQJbhA/AAAAAAAAAAI/AAAAAAAAAio/yIydBmJjw78/s50-c-k-no/photo.jpg",
            "userId": "107229491952708267793"
          }
        }
      },
      "cell_type": "code",
      "source": [
        "%run main_multi_label.py -c configs/multi_label_conv_model.json"
      ],
      "execution_count": 24,
      "outputs": [
        {
          "output_type": "stream",
          "text": [
            "Create the data generator.\n",
            "Create the model.\n",
            "Create the trainer\n",
            "Start training the model.\n",
            "Train on 119678 samples, validate on 39893 samples\n",
            "Epoch 1/100\n",
            " 89344/119678 [=====================>........] 89344/119678 [=====================>........] - ETA: 6s - loss: 0.1080 - acc: 0.9665"
          ],
          "name": "stdout"
        },
        {
          "output_type": "stream",
          "text": [
            "119424/119678 [============================>.]119424/119678 [============================>.] - ETA: 0s - loss: 0.0979 - acc: 0.9693\n",
            "Epoch 00001: val_loss improved from inf to 0.06776, saving model to experiments/multi_label_conv_model/checkpoint/multi_label_conv_model-01-0.07.hdf5\n",
            "119678/119678 [==============================]119678/119678 [==============================] - 29s 245us/step - loss: 0.0979 - acc: 0.9693 - val_loss: 0.0678 - val_acc: 0.9771\n",
            "\n",
            "Epoch 2/100\n",
            " 37696/119678 [========>.....................] 37696/119678 [========>.....................] - ETA: 16s - loss: 0.0646 - acc: 0.9783"
          ],
          "name": "stdout"
        },
        {
          "output_type": "stream",
          "text": [
            "119488/119678 [============================>.]119488/119678 [============================>.] - ETA: 0s - loss: 0.0626 - acc: 0.9786\n",
            "Epoch 00002: val_loss improved from 0.06776 to 0.06323, saving model to experiments/multi_label_conv_model/checkpoint/multi_label_conv_model-02-0.06.hdf5\n",
            "119678/119678 [==============================]119678/119678 [==============================] - 28s 236us/step - loss: 0.0626 - acc: 0.9786 - val_loss: 0.0632 - val_acc: 0.9780\n",
            "\n",
            "Epoch 3/100\n",
            " 25920/119678 [=====>........................] 25920/119678 [=====>........................] - ETA: 19s - loss: 0.0594 - acc: 0.9793"
          ],
          "name": "stdout"
        },
        {
          "output_type": "stream",
          "text": [
            "119616/119678 [============================>.]119616/119678 [============================>.] - ETA: 0s - loss: 0.0593 - acc: 0.9793\n",
            "Epoch 00003: val_loss improved from 0.06323 to 0.06201, saving model to experiments/multi_label_conv_model/checkpoint/multi_label_conv_model-03-0.06.hdf5\n",
            "119678/119678 [==============================]119678/119678 [==============================] - 28s 236us/step - loss: 0.0593 - acc: 0.9793 - val_loss: 0.0620 - val_acc: 0.9781\n",
            "\n",
            "Epoch 4/100\n",
            " 24512/119678 [=====>........................] 24512/119678 [=====>........................] - ETA: 19s - loss: 0.0586 - acc: 0.9794"
          ],
          "name": "stdout"
        },
        {
          "output_type": "stream",
          "text": [
            "119616/119678 [============================>.]119616/119678 [============================>.] - ETA: 0s - loss: 0.0577 - acc: 0.9797\n",
            "Epoch 00004: val_loss improved from 0.06201 to 0.06122, saving model to experiments/multi_label_conv_model/checkpoint/multi_label_conv_model-04-0.06.hdf5\n",
            "119678/119678 [==============================]119678/119678 [==============================] - 28s 236us/step - loss: 0.0577 - acc: 0.9797 - val_loss: 0.0612 - val_acc: 0.9786\n",
            "\n",
            "Epoch 5/100\n",
            " 23296/119678 [====>.........................] 23296/119678 [====>.........................] - ETA: 19s - loss: 0.0567 - acc: 0.9799"
          ],
          "name": "stdout"
        },
        {
          "output_type": "stream",
          "text": [
            "119616/119678 [============================>.]119616/119678 [============================>.] - ETA: 0s - loss: 0.0566 - acc: 0.9800\n",
            "Epoch 00005: val_loss improved from 0.06122 to 0.06092, saving model to experiments/multi_label_conv_model/checkpoint/multi_label_conv_model-05-0.06.hdf5\n",
            "119678/119678 [==============================]119678/119678 [==============================] - 28s 237us/step - loss: 0.0567 - acc: 0.9800 - val_loss: 0.0609 - val_acc: 0.9786\n",
            "\n",
            "Epoch 6/100\n",
            " 22464/119678 [====>.........................] 22464/119678 [====>.........................] - ETA: 19s - loss: 0.0551 - acc: 0.9804"
          ],
          "name": "stdout"
        },
        {
          "output_type": "stream",
          "text": [
            "119552/119678 [============================>.]119552/119678 [============================>.] - ETA: 0s - loss: 0.0558 - acc: 0.9802\n",
            "Epoch 00006: val_loss did not improve\n",
            "119678/119678 [==============================]119678/119678 [==============================] - 27s 228us/step - loss: 0.0558 - acc: 0.9802 - val_loss: 0.0612 - val_acc: 0.9786\n",
            "\n",
            "Epoch 7/100\n",
            " 29120/119678 [======>.......................] 29120/119678 [======>.......................] - ETA: 18s - loss: 0.0528 - acc: 0.9811"
          ],
          "name": "stdout"
        },
        {
          "output_type": "stream",
          "text": [
            "119616/119678 [============================>.]119616/119678 [============================>.] - ETA: 0s - loss: 0.0553 - acc: 0.9803\n",
            "Epoch 00007: val_loss improved from 0.06092 to 0.06074, saving model to experiments/multi_label_conv_model/checkpoint/multi_label_conv_model-07-0.06.hdf5\n",
            "119678/119678 [==============================]119678/119678 [==============================] - 28s 235us/step - loss: 0.0553 - acc: 0.9803 - val_loss: 0.0607 - val_acc: 0.9788\n",
            "\n",
            "Epoch 8/100\n",
            " 24576/119678 [=====>........................] 24576/119678 [=====>........................] - ETA: 19s - loss: 0.0534 - acc: 0.9811"
          ],
          "name": "stdout"
        },
        {
          "output_type": "stream",
          "text": [
            "119488/119678 [============================>.]119488/119678 [============================>.] - ETA: 0s - loss: 0.0548 - acc: 0.9805\n",
            "Epoch 00008: val_loss improved from 0.06074 to 0.06046, saving model to experiments/multi_label_conv_model/checkpoint/multi_label_conv_model-08-0.06.hdf5\n",
            "119678/119678 [==============================]119678/119678 [==============================] - 28s 236us/step - loss: 0.0548 - acc: 0.9805 - val_loss: 0.0605 - val_acc: 0.9788\n",
            "\n",
            "Epoch 9/100\n",
            " 22848/119678 [====>.........................] 22848/119678 [====>.........................] - ETA: 19s - loss: 0.0530 - acc: 0.9813"
          ],
          "name": "stdout"
        },
        {
          "output_type": "stream",
          "text": [
            "119488/119678 [============================>.]119488/119678 [============================>.] - ETA: 0s - loss: 0.0544 - acc: 0.9806\n",
            "Epoch 00009: val_loss did not improve\n",
            "119678/119678 [==============================]119678/119678 [==============================] - 27s 229us/step - loss: 0.0544 - acc: 0.9806 - val_loss: 0.0607 - val_acc: 0.9788\n",
            "\n",
            "Epoch 10/100\n",
            " 28800/119678 [======>.......................] 28800/119678 [======>.......................] - ETA: 18s - loss: 0.0534 - acc: 0.9808"
          ],
          "name": "stdout"
        },
        {
          "output_type": "stream",
          "text": [
            "119552/119678 [============================>.]119552/119678 [============================>.] - ETA: 0s - loss: 0.0540 - acc: 0.9807\n",
            "Epoch 00010: val_loss did not improve\n",
            "119678/119678 [==============================]119678/119678 [==============================] - 27s 228us/step - loss: 0.0540 - acc: 0.9807 - val_loss: 0.0606 - val_acc: 0.9786\n",
            "\n",
            "Epoch 11/100\n",
            " 29824/119678 [======>.......................] 29824/119678 [======>.......................] - ETA: 18s - loss: 0.0520 - acc: 0.9813"
          ],
          "name": "stdout"
        },
        {
          "output_type": "stream",
          "text": [
            "119488/119678 [============================>.]119488/119678 [============================>.] - ETA: 0s - loss: 0.0538 - acc: 0.9808\n",
            "Epoch 00011: val_loss did not improve\n",
            "119678/119678 [==============================]119678/119678 [==============================] - 27s 227us/step - loss: 0.0537 - acc: 0.9808 - val_loss: 0.0610 - val_acc: 0.9788\n",
            "\n",
            "Epoch 12/100\n",
            " 31616/119678 [======>.......................] 31616/119678 [======>.......................] - ETA: 17s - loss: 0.0531 - acc: 0.9809"
          ],
          "name": "stdout"
        },
        {
          "output_type": "stream",
          "text": [
            "119488/119678 [============================>.]119488/119678 [============================>.] - ETA: 0s - loss: 0.0535 - acc: 0.9808\n",
            "Epoch 00012: val_loss did not improve\n",
            "119678/119678 [==============================]119678/119678 [==============================] - 27s 226us/step - loss: 0.0535 - acc: 0.9808 - val_loss: 0.0611 - val_acc: 0.9786\n",
            "\n",
            "Epoch 13/100\n",
            " 31808/119678 [======>.......................] 31808/119678 [======>.......................] - ETA: 17s - loss: 0.0521 - acc: 0.9812"
          ],
          "name": "stdout"
        },
        {
          "output_type": "stream",
          "text": [
            "119360/119678 [============================>.]119360/119678 [============================>.] - ETA: 0s - loss: 0.0532 - acc: 0.9810\n",
            "Epoch 00013: val_loss did not improve\n",
            "119678/119678 [==============================]119678/119678 [==============================] - 27s 227us/step - loss: 0.0532 - acc: 0.9810 - val_loss: 0.0608 - val_acc: 0.9786\n",
            "\n",
            "Epoch 14/100\n",
            " 31296/119678 [======>.......................] 31296/119678 [======>.......................] - ETA: 17s - loss: 0.0533 - acc: 0.9810"
          ],
          "name": "stdout"
        },
        {
          "output_type": "stream",
          "text": [
            "119616/119678 [============================>.]119616/119678 [============================>.] - ETA: 0s - loss: 0.0530 - acc: 0.9811\n",
            "Epoch 00014: val_loss did not improve\n",
            "119678/119678 [==============================]119678/119678 [==============================] - 27s 227us/step - loss: 0.0530 - acc: 0.9811 - val_loss: 0.0609 - val_acc: 0.9787\n",
            "\n",
            "Epoch 15/100\n",
            " 30656/119678 [======>.......................] 30656/119678 [======>.......................] - ETA: 17s - loss: 0.0516 - acc: 0.9815"
          ],
          "name": "stdout"
        },
        {
          "output_type": "stream",
          "text": [
            "119552/119678 [============================>.]119552/119678 [============================>.] - ETA: 0s - loss: 0.0528 - acc: 0.9811\n",
            "Epoch 00015: val_loss did not improve\n",
            "119678/119678 [==============================]119678/119678 [==============================] - 27s 228us/step - loss: 0.0528 - acc: 0.9811 - val_loss: 0.0608 - val_acc: 0.9786\n",
            "\n",
            "Epoch 16/100\n",
            " 31104/119678 [======>.......................] 31104/119678 [======>.......................] - ETA: 17s - loss: 0.0517 - acc: 0.9813"
          ],
          "name": "stdout"
        },
        {
          "output_type": "stream",
          "text": [
            "119552/119678 [============================>.]119552/119678 [============================>.] - ETA: 0s - loss: 0.0526 - acc: 0.9811\n",
            "Epoch 00016: val_loss did not improve\n",
            "119678/119678 [==============================]119678/119678 [==============================] - 27s 227us/step - loss: 0.0526 - acc: 0.9811 - val_loss: 0.0608 - val_acc: 0.9787\n",
            "\n",
            "Epoch 17/100\n",
            " 31040/119678 [======>.......................] 31040/119678 [======>.......................] - ETA: 17s - loss: 0.0519 - acc: 0.9816"
          ],
          "name": "stdout"
        },
        {
          "output_type": "stream",
          "text": [
            "119488/119678 [============================>.]119488/119678 [============================>.] - ETA: 0s - loss: 0.0524 - acc: 0.9812\n",
            "Epoch 00017: val_loss did not improve\n",
            "119678/119678 [==============================]119678/119678 [==============================] - 27s 227us/step - loss: 0.0524 - acc: 0.9812 - val_loss: 0.0607 - val_acc: 0.9787\n",
            "\n",
            "Epoch 18/100\n",
            " 30912/119678 [======>.......................] 30912/119678 [======>.......................] - ETA: 17s - loss: 0.0517 - acc: 0.9812"
          ],
          "name": "stdout"
        },
        {
          "output_type": "stream",
          "text": [
            "119552/119678 [============================>.]119552/119678 [============================>.] - ETA: 0s - loss: 0.0522 - acc: 0.9813\n",
            "Epoch 00018: val_loss did not improve\n",
            "119678/119678 [==============================]119678/119678 [==============================] - 27s 227us/step - loss: 0.0522 - acc: 0.9813 - val_loss: 0.0610 - val_acc: 0.9787\n",
            "\n",
            "Epoch 19/100\n",
            " 30656/119678 [======>.......................] 30656/119678 [======>.......................] - ETA: 17s - loss: 0.0520 - acc: 0.9810"
          ],
          "name": "stdout"
        },
        {
          "output_type": "stream",
          "text": [
            "119488/119678 [============================>.]119488/119678 [============================>.] - ETA: 0s - loss: 0.0522 - acc: 0.9812\n",
            "Epoch 00019: val_loss did not improve\n",
            "119678/119678 [==============================]119678/119678 [==============================] - 27s 226us/step - loss: 0.0521 - acc: 0.9812 - val_loss: 0.0608 - val_acc: 0.9788\n",
            "\n",
            "Epoch 20/100\n",
            " 31424/119678 [======>.......................] 31424/119678 [======>.......................] - ETA: 17s - loss: 0.0509 - acc: 0.9818"
          ],
          "name": "stdout"
        },
        {
          "output_type": "stream",
          "text": [
            "119488/119678 [============================>.]119488/119678 [============================>.] - ETA: 0s - loss: 0.0520 - acc: 0.9814\n",
            "Epoch 00020: val_loss did not improve\n",
            "119678/119678 [==============================]119678/119678 [==============================] - 27s 226us/step - loss: 0.0520 - acc: 0.9814 - val_loss: 0.0610 - val_acc: 0.9787\n",
            "\n",
            "Epoch 21/100\n",
            " 31808/119678 [======>.......................] 31808/119678 [======>.......................] - ETA: 17s - loss: 0.0508 - acc: 0.9815"
          ],
          "name": "stdout"
        },
        {
          "output_type": "stream",
          "text": [
            "119552/119678 [============================>.]119552/119678 [============================>.] - ETA: 0s - loss: 0.0519 - acc: 0.9812\n",
            "Epoch 00021: val_loss did not improve\n",
            "119678/119678 [==============================]119678/119678 [==============================] - 27s 227us/step - loss: 0.0519 - acc: 0.9812 - val_loss: 0.0614 - val_acc: 0.9785\n",
            "\n",
            "Epoch 22/100\n",
            " 31296/119678 [======>.......................] 31296/119678 [======>.......................] - ETA: 17s - loss: 0.0506 - acc: 0.9816"
          ],
          "name": "stdout"
        },
        {
          "output_type": "stream",
          "text": [
            "119424/119678 [============================>.]119424/119678 [============================>.] - ETA: 0s - loss: 0.0518 - acc: 0.9813\n",
            "Epoch 00022: val_loss did not improve\n",
            "119678/119678 [==============================]119678/119678 [==============================] - 27s 227us/step - loss: 0.0518 - acc: 0.9813 - val_loss: 0.0617 - val_acc: 0.9781\n",
            "\n",
            "Epoch 23/100\n",
            " 30912/119678 [======>.......................] 30912/119678 [======>.......................] - ETA: 17s - loss: 0.0503 - acc: 0.9817"
          ],
          "name": "stdout"
        },
        {
          "output_type": "stream",
          "text": [
            "119360/119678 [============================>.]119360/119678 [============================>.] - ETA: 0s - loss: 0.0517 - acc: 0.9813\n",
            "Epoch 00023: val_loss did not improve\n",
            "119678/119678 [==============================]119678/119678 [==============================] - 27s 227us/step - loss: 0.0517 - acc: 0.9813 - val_loss: 0.0612 - val_acc: 0.9788\n",
            "\n",
            "Epoch 24/100\n",
            " 31808/119678 [======>.......................] 31808/119678 [======>.......................] - ETA: 17s - loss: 0.0514 - acc: 0.9812"
          ],
          "name": "stdout"
        },
        {
          "output_type": "stream",
          "text": [
            "119552/119678 [============================>.]119552/119678 [============================>.] - ETA: 0s - loss: 0.0516 - acc: 0.9813\n",
            "Epoch 00024: val_loss did not improve\n",
            "119678/119678 [==============================]119678/119678 [==============================] - 27s 227us/step - loss: 0.0516 - acc: 0.9813 - val_loss: 0.0611 - val_acc: 0.9788\n",
            "\n",
            "Epoch 25/100\n",
            " 32064/119678 [=======>......................] 32064/119678 [=======>......................] - ETA: 17s - loss: 0.0510 - acc: 0.9816"
          ],
          "name": "stdout"
        },
        {
          "output_type": "stream",
          "text": [
            "119424/119678 [============================>.]119424/119678 [============================>.] - ETA: 0s - loss: 0.0515 - acc: 0.9815\n",
            "Epoch 00025: val_loss did not improve\n",
            "119678/119678 [==============================]119678/119678 [==============================] - 27s 227us/step - loss: 0.0515 - acc: 0.9815 - val_loss: 0.0610 - val_acc: 0.9785\n",
            "\n",
            "Epoch 26/100\n",
            " 31296/119678 [======>.......................] 31296/119678 [======>.......................] - ETA: 17s - loss: 0.0500 - acc: 0.9819"
          ],
          "name": "stdout"
        },
        {
          "output_type": "stream",
          "text": [
            "119488/119678 [============================>.]119488/119678 [============================>.] - ETA: 0s - loss: 0.0514 - acc: 0.9814\n",
            "Epoch 00026: val_loss did not improve\n",
            "119678/119678 [==============================]119678/119678 [==============================] - 27s 227us/step - loss: 0.0514 - acc: 0.9814 - val_loss: 0.0611 - val_acc: 0.9788\n",
            "\n",
            "Epoch 27/100\n",
            " 30336/119678 [======>.......................] 30336/119678 [======>.......................] - ETA: 18s - loss: 0.0514 - acc: 0.9814"
          ],
          "name": "stdout"
        },
        {
          "output_type": "stream",
          "text": [
            "119552/119678 [============================>.]119552/119678 [============================>.] - ETA: 0s - loss: 0.0513 - acc: 0.9815\n",
            "Epoch 00027: val_loss did not improve\n",
            "119678/119678 [==============================]119678/119678 [==============================] - 27s 228us/step - loss: 0.0513 - acc: 0.9815 - val_loss: 0.0611 - val_acc: 0.9784\n",
            "\n",
            "Epoch 28/100\n",
            " 31296/119678 [======>.......................] 31296/119678 [======>.......................] - ETA: 17s - loss: 0.0490 - acc: 0.9823"
          ],
          "name": "stdout"
        },
        {
          "output_type": "stream",
          "text": [
            "119424/119678 [============================>.]119424/119678 [============================>.] - ETA: 0s - loss: 0.0513 - acc: 0.9815\n",
            "Epoch 00028: val_loss did not improve\n",
            "119678/119678 [==============================]119678/119678 [==============================] - 27s 227us/step - loss: 0.0513 - acc: 0.9815 - val_loss: 0.0614 - val_acc: 0.9784\n",
            "\n",
            "Epoch 29/100\n",
            " 32640/119678 [=======>......................] 32640/119678 [=======>......................] - ETA: 17s - loss: 0.0490 - acc: 0.9825"
          ],
          "name": "stdout"
        },
        {
          "output_type": "stream",
          "text": [
            "119424/119678 [============================>.]119424/119678 [============================>.] - ETA: 0s - loss: 0.0512 - acc: 0.9816\n",
            "Epoch 00029: val_loss did not improve\n",
            "119678/119678 [==============================]119678/119678 [==============================] - 27s 225us/step - loss: 0.0512 - acc: 0.9816 - val_loss: 0.0610 - val_acc: 0.9784\n",
            "\n",
            "Epoch 30/100\n",
            " 33152/119678 [=======>......................] 33152/119678 [=======>......................] - ETA: 17s - loss: 0.0506 - acc: 0.9816"
          ],
          "name": "stdout"
        },
        {
          "output_type": "stream",
          "text": [
            "119424/119678 [============================>.]119424/119678 [============================>.] - ETA: 0s - loss: 0.0511 - acc: 0.9816\n",
            "Epoch 00030: val_loss did not improve\n",
            "119678/119678 [==============================]119678/119678 [==============================] - 27s 225us/step - loss: 0.0511 - acc: 0.9816 - val_loss: 0.0611 - val_acc: 0.9785\n",
            "\n",
            "Epoch 31/100\n",
            " 34752/119678 [=======>......................] 34752/119678 [=======>......................] - ETA: 16s - loss: 0.0494 - acc: 0.9822"
          ],
          "name": "stdout"
        },
        {
          "output_type": "stream",
          "text": [
            "119488/119678 [============================>.]119488/119678 [============================>.] - ETA: 0s - loss: 0.0510 - acc: 0.9816\n",
            "Epoch 00031: val_loss did not improve\n",
            "119678/119678 [==============================]119678/119678 [==============================] - 27s 222us/step - loss: 0.0510 - acc: 0.9816 - val_loss: 0.0613 - val_acc: 0.9784\n",
            "\n",
            "Epoch 32/100\n",
            " 35008/119678 [=======>......................] 35008/119678 [=======>......................] - ETA: 16s - loss: 0.0494 - acc: 0.9823"
          ],
          "name": "stdout"
        },
        {
          "output_type": "stream",
          "text": [
            "119424/119678 [============================>.]119424/119678 [============================>.] - ETA: 0s - loss: 0.0509 - acc: 0.9816\n",
            "Epoch 00032: val_loss did not improve\n",
            "119678/119678 [==============================]119678/119678 [==============================] - 27s 223us/step - loss: 0.0510 - acc: 0.9816 - val_loss: 0.0620 - val_acc: 0.9782\n",
            "\n",
            "Epoch 33/100\n",
            " 33600/119678 [=======>......................] 33600/119678 [=======>......................] - ETA: 17s - loss: 0.0499 - acc: 0.9818"
          ],
          "name": "stdout"
        },
        {
          "output_type": "stream",
          "text": [
            "119616/119678 [============================>.]119616/119678 [============================>.] - ETA: 0s - loss: 0.0509 - acc: 0.9815\n",
            "Epoch 00033: val_loss did not improve\n",
            "119678/119678 [==============================]119678/119678 [==============================] - 27s 224us/step - loss: 0.0509 - acc: 0.9815 - val_loss: 0.0620 - val_acc: 0.9784\n",
            "\n",
            "Epoch 34/100\n",
            " 35072/119678 [=======>......................] 35072/119678 [=======>......................] - ETA: 16s - loss: 0.0493 - acc: 0.9820"
          ],
          "name": "stdout"
        },
        {
          "output_type": "stream",
          "text": [
            "119424/119678 [============================>.]119424/119678 [============================>.] - ETA: 0s - loss: 0.0509 - acc: 0.9816\n",
            "Epoch 00034: val_loss did not improve\n",
            "119678/119678 [==============================]119678/119678 [==============================] - 27s 223us/step - loss: 0.0508 - acc: 0.9816 - val_loss: 0.0616 - val_acc: 0.9787\n",
            "\n",
            "Epoch 35/100\n",
            " 35008/119678 [=======>......................] 35008/119678 [=======>......................] - ETA: 16s - loss: 0.0490 - acc: 0.9820"
          ],
          "name": "stdout"
        },
        {
          "output_type": "stream",
          "text": [
            "119488/119678 [============================>.]119488/119678 [============================>.] - ETA: 0s - loss: 0.0508 - acc: 0.9816\n",
            "Epoch 00035: val_loss did not improve\n",
            "119678/119678 [==============================]119678/119678 [==============================] - 27s 223us/step - loss: 0.0508 - acc: 0.9816 - val_loss: 0.0611 - val_acc: 0.9786\n",
            "\n",
            "Epoch 36/100\n",
            " 35200/119678 [=======>......................] 35200/119678 [=======>......................] - ETA: 16s - loss: 0.0500 - acc: 0.9822"
          ],
          "name": "stdout"
        },
        {
          "output_type": "stream",
          "text": [
            "119552/119678 [============================>.]119552/119678 [============================>.] - ETA: 0s - loss: 0.0507 - acc: 0.9817\n",
            "Epoch 00036: val_loss did not improve\n",
            "119678/119678 [==============================]119678/119678 [==============================] - 27s 223us/step - loss: 0.0507 - acc: 0.9817 - val_loss: 0.0613 - val_acc: 0.9785\n",
            "\n",
            "Epoch 37/100\n",
            " 33984/119678 [=======>......................] 33984/119678 [=======>......................] - ETA: 17s - loss: 0.0509 - acc: 0.9817"
          ],
          "name": "stdout"
        },
        {
          "output_type": "stream",
          "text": [
            "119360/119678 [============================>.]119360/119678 [============================>.] - ETA: 0s - loss: 0.0507 - acc: 0.9816\n",
            "Epoch 00037: val_loss did not improve\n",
            "119678/119678 [==============================]119678/119678 [==============================] - 27s 224us/step - loss: 0.0507 - acc: 0.9816 - val_loss: 0.0613 - val_acc: 0.9784\n",
            "\n",
            "Epoch 38/100\n",
            " 35328/119678 [=======>......................] 35328/119678 [=======>......................] - ETA: 16s - loss: 0.0494 - acc: 0.9822"
          ],
          "name": "stdout"
        },
        {
          "output_type": "stream",
          "text": [
            "119488/119678 [============================>.]119488/119678 [============================>.] - ETA: 0s - loss: 0.0507 - acc: 0.9817\n",
            "Epoch 00038: val_loss did not improve\n",
            "119678/119678 [==============================]119678/119678 [==============================] - 27s 222us/step - loss: 0.0507 - acc: 0.9817 - val_loss: 0.0612 - val_acc: 0.9785\n",
            "\n",
            "Epoch 39/100\n",
            " 33792/119678 [=======>......................] 33792/119678 [=======>......................] - ETA: 17s - loss: 0.0496 - acc: 0.9820"
          ],
          "name": "stdout"
        },
        {
          "output_type": "stream",
          "text": [
            "119616/119678 [============================>.]119616/119678 [============================>.] - ETA: 0s - loss: 0.0506 - acc: 0.9817\n",
            "Epoch 00039: val_loss did not improve\n",
            "119678/119678 [==============================]119678/119678 [==============================] - 27s 224us/step - loss: 0.0506 - acc: 0.9817 - val_loss: 0.0613 - val_acc: 0.9785\n",
            "\n",
            "Epoch 40/100\n",
            " 33856/119678 [=======>......................] 33856/119678 [=======>......................] - ETA: 17s - loss: 0.0517 - acc: 0.9813"
          ],
          "name": "stdout"
        },
        {
          "output_type": "stream",
          "text": [
            "119424/119678 [============================>.]119424/119678 [============================>.] - ETA: 0s - loss: 0.0506 - acc: 0.9817\n",
            "Epoch 00040: val_loss did not improve\n",
            "119678/119678 [==============================]119678/119678 [==============================] - 27s 224us/step - loss: 0.0506 - acc: 0.9817 - val_loss: 0.0610 - val_acc: 0.9785\n",
            "\n",
            "Epoch 41/100\n",
            " 34176/119678 [=======>......................] 34176/119678 [=======>......................] - ETA: 16s - loss: 0.0491 - acc: 0.9824"
          ],
          "name": "stdout"
        },
        {
          "output_type": "stream",
          "text": [
            "119424/119678 [============================>.]119424/119678 [============================>.] - ETA: 0s - loss: 0.0505 - acc: 0.9817\n",
            "Epoch 00041: val_loss did not improve\n",
            "119678/119678 [==============================]119678/119678 [==============================] - 27s 224us/step - loss: 0.0505 - acc: 0.9817 - val_loss: 0.0611 - val_acc: 0.9785\n",
            "\n",
            "Epoch 42/100\n",
            " 34432/119678 [=======>......................] 34432/119678 [=======>......................] - ETA: 16s - loss: 0.0488 - acc: 0.9824"
          ],
          "name": "stdout"
        },
        {
          "output_type": "stream",
          "text": [
            "119552/119678 [============================>.]119552/119678 [============================>.] - ETA: 0s - loss: 0.0505 - acc: 0.9818\n",
            "Epoch 00042: val_loss did not improve\n",
            "119678/119678 [==============================]119678/119678 [==============================] - 27s 223us/step - loss: 0.0505 - acc: 0.9818 - val_loss: 0.0611 - val_acc: 0.9784\n",
            "\n",
            "Epoch 43/100\n",
            " 34688/119678 [=======>......................] 34688/119678 [=======>......................] - ETA: 16s - loss: 0.0498 - acc: 0.9820"
          ],
          "name": "stdout"
        },
        {
          "output_type": "stream",
          "text": [
            "119360/119678 [============================>.]119360/119678 [============================>.] - ETA: 0s - loss: 0.0504 - acc: 0.9818\n",
            "Epoch 00043: val_loss did not improve\n",
            "119678/119678 [==============================]119678/119678 [==============================] - 27s 223us/step - loss: 0.0504 - acc: 0.9818 - val_loss: 0.0610 - val_acc: 0.9786\n",
            "\n",
            "Epoch 44/100\n",
            " 35200/119678 [=======>......................] 35200/119678 [=======>......................] - ETA: 16s - loss: 0.0491 - acc: 0.9820"
          ],
          "name": "stdout"
        },
        {
          "output_type": "stream",
          "text": [
            "119488/119678 [============================>.]119488/119678 [============================>.] - ETA: 0s - loss: 0.0504 - acc: 0.9818\n",
            "Epoch 00044: val_loss did not improve\n",
            "119678/119678 [==============================]119678/119678 [==============================] - 27s 222us/step - loss: 0.0504 - acc: 0.9818 - val_loss: 0.0612 - val_acc: 0.9785\n",
            "\n",
            "Epoch 45/100\n",
            " 35776/119678 [=======>......................] 35776/119678 [=======>......................] - ETA: 16s - loss: 0.0493 - acc: 0.9821"
          ],
          "name": "stdout"
        },
        {
          "output_type": "stream",
          "text": [
            "119616/119678 [============================>.]119616/119678 [============================>.] - ETA: 0s - loss: 0.0503 - acc: 0.9818\n",
            "Epoch 00045: val_loss did not improve\n",
            "119678/119678 [==============================]119678/119678 [==============================] - 27s 222us/step - loss: 0.0503 - acc: 0.9818 - val_loss: 0.0614 - val_acc: 0.9785\n",
            "\n",
            "Epoch 46/100\n",
            " 35008/119678 [=======>......................] 35008/119678 [=======>......................] - ETA: 16s - loss: 0.0497 - acc: 0.9819"
          ],
          "name": "stdout"
        },
        {
          "output_type": "stream",
          "text": [
            "119424/119678 [============================>.]119424/119678 [============================>.] - ETA: 0s - loss: 0.0503 - acc: 0.9818\n",
            "Epoch 00046: val_loss did not improve\n",
            "119678/119678 [==============================]119678/119678 [==============================] - 27s 222us/step - loss: 0.0503 - acc: 0.9818 - val_loss: 0.0611 - val_acc: 0.9786\n",
            "\n",
            "Epoch 47/100\n",
            " 34560/119678 [=======>......................] 34560/119678 [=======>......................] - ETA: 16s - loss: 0.0496 - acc: 0.9818"
          ],
          "name": "stdout"
        },
        {
          "output_type": "stream",
          "text": [
            "119488/119678 [============================>.]119488/119678 [============================>.] - ETA: 0s - loss: 0.0502 - acc: 0.9819\n",
            "Epoch 00047: val_loss did not improve\n",
            "119678/119678 [==============================]119678/119678 [==============================] - 27s 224us/step - loss: 0.0502 - acc: 0.9819 - val_loss: 0.0614 - val_acc: 0.9785\n",
            "\n",
            "Epoch 48/100\n",
            " 34496/119678 [=======>......................] 34496/119678 [=======>......................] - ETA: 16s - loss: 0.0490 - acc: 0.9826"
          ],
          "name": "stdout"
        },
        {
          "output_type": "stream",
          "text": [
            "119616/119678 [============================>.]119616/119678 [============================>.] - ETA: 0s - loss: 0.0503 - acc: 0.9818\n",
            "Epoch 00048: val_loss did not improve\n",
            "119678/119678 [==============================]119678/119678 [==============================] - 27s 224us/step - loss: 0.0503 - acc: 0.9818 - val_loss: 0.0611 - val_acc: 0.9785\n",
            "\n",
            "Epoch 49/100\n",
            " 33984/119678 [=======>......................] 33984/119678 [=======>......................] - ETA: 16s - loss: 0.0497 - acc: 0.9819"
          ],
          "name": "stdout"
        },
        {
          "output_type": "stream",
          "text": [
            "119424/119678 [============================>.]119424/119678 [============================>.] - ETA: 0s - loss: 0.0502 - acc: 0.9817\n",
            "Epoch 00049: val_loss did not improve\n",
            "119678/119678 [==============================]119678/119678 [==============================] - 27s 223us/step - loss: 0.0502 - acc: 0.9817 - val_loss: 0.0613 - val_acc: 0.9785\n",
            "\n",
            "Epoch 50/100\n",
            " 33984/119678 [=======>......................] 33984/119678 [=======>......................] - ETA: 16s - loss: 0.0491 - acc: 0.9820"
          ],
          "name": "stdout"
        },
        {
          "output_type": "stream",
          "text": [
            "119360/119678 [============================>.]119360/119678 [============================>.] - ETA: 0s - loss: 0.0502 - acc: 0.9818\n",
            "Epoch 00050: val_loss did not improve\n",
            "119678/119678 [==============================]119678/119678 [==============================] - 27s 223us/step - loss: 0.0502 - acc: 0.9818 - val_loss: 0.0615 - val_acc: 0.9785\n",
            "\n",
            "Epoch 51/100\n",
            " 34176/119678 [=======>......................] 34176/119678 [=======>......................] - ETA: 16s - loss: 0.0494 - acc: 0.9823"
          ],
          "name": "stdout"
        },
        {
          "output_type": "stream",
          "text": [
            "119552/119678 [============================>.]119552/119678 [============================>.] - ETA: 0s - loss: 0.0502 - acc: 0.9819\n",
            "Epoch 00051: val_loss did not improve\n",
            "119678/119678 [==============================]119678/119678 [==============================] - 27s 224us/step - loss: 0.0501 - acc: 0.9819 - val_loss: 0.0613 - val_acc: 0.9785\n",
            "\n",
            "Epoch 52/100\n",
            " 33152/119678 [=======>......................] 33152/119678 [=======>......................] - ETA: 17s - loss: 0.0492 - acc: 0.9825"
          ],
          "name": "stdout"
        },
        {
          "output_type": "stream",
          "text": [
            "119616/119678 [============================>.]119616/119678 [============================>.] - ETA: 0s - loss: 0.0501 - acc: 0.9819\n",
            "Epoch 00052: val_loss did not improve\n",
            "119678/119678 [==============================]119678/119678 [==============================] - 27s 225us/step - loss: 0.0501 - acc: 0.9819 - val_loss: 0.0613 - val_acc: 0.9784\n",
            "\n",
            "Epoch 53/100\n",
            " 34496/119678 [=======>......................] 34496/119678 [=======>......................] - ETA: 16s - loss: 0.0490 - acc: 0.9824"
          ],
          "name": "stdout"
        },
        {
          "output_type": "stream",
          "text": [
            "119424/119678 [============================>.]119424/119678 [============================>.] - ETA: 0s - loss: 0.0501 - acc: 0.9819\n",
            "Epoch 00053: val_loss did not improve\n",
            "119678/119678 [==============================]119678/119678 [==============================] - 27s 223us/step - loss: 0.0501 - acc: 0.9820 - val_loss: 0.0611 - val_acc: 0.9784\n",
            "\n",
            "Epoch 54/100\n",
            " 35264/119678 [=======>......................] 35264/119678 [=======>......................] - ETA: 16s - loss: 0.0490 - acc: 0.9823"
          ],
          "name": "stdout"
        },
        {
          "output_type": "stream",
          "text": [
            "119552/119678 [============================>.]119552/119678 [============================>.] - ETA: 0s - loss: 0.0501 - acc: 0.9819\n",
            "Epoch 00054: val_loss did not improve\n",
            "119678/119678 [==============================]119678/119678 [==============================] - 27s 223us/step - loss: 0.0501 - acc: 0.9819 - val_loss: 0.0612 - val_acc: 0.9785\n",
            "\n",
            "Epoch 55/100\n",
            " 36032/119678 [========>.....................] 36032/119678 [========>.....................] - ETA: 16s - loss: 0.0493 - acc: 0.9823"
          ],
          "name": "stdout"
        },
        {
          "output_type": "stream",
          "text": [
            "119616/119678 [============================>.]119616/119678 [============================>.] - ETA: 0s - loss: 0.0500 - acc: 0.9819\n",
            "Epoch 00055: val_loss did not improve\n",
            "119678/119678 [==============================]119678/119678 [==============================] - 27s 222us/step - loss: 0.0500 - acc: 0.9819 - val_loss: 0.0615 - val_acc: 0.9785\n",
            "\n",
            "Epoch 56/100\n",
            " 35392/119678 [=======>......................] 35392/119678 [=======>......................] - ETA: 16s - loss: 0.0484 - acc: 0.9826"
          ],
          "name": "stdout"
        },
        {
          "output_type": "stream",
          "text": [
            "119488/119678 [============================>.]119488/119678 [============================>.] - ETA: 0s - loss: 0.0500 - acc: 0.9819\n",
            "Epoch 00056: val_loss did not improve\n",
            "119678/119678 [==============================]119678/119678 [==============================] - 27s 222us/step - loss: 0.0500 - acc: 0.9819 - val_loss: 0.0613 - val_acc: 0.9786\n",
            "\n",
            "Epoch 57/100\n",
            " 35456/119678 [=======>......................] 35456/119678 [=======>......................] - ETA: 16s - loss: 0.0493 - acc: 0.9822"
          ],
          "name": "stdout"
        },
        {
          "output_type": "stream",
          "text": [
            "119616/119678 [============================>.]119616/119678 [============================>.] - ETA: 0s - loss: 0.0499 - acc: 0.9819\n",
            "Epoch 00057: val_loss did not improve\n",
            "119678/119678 [==============================]119678/119678 [==============================] - 27s 222us/step - loss: 0.0499 - acc: 0.9819 - val_loss: 0.0613 - val_acc: 0.9784\n",
            "\n",
            "Epoch 58/100\n",
            " 35072/119678 [=======>......................] 35072/119678 [=======>......................] - ETA: 16s - loss: 0.0495 - acc: 0.9821"
          ],
          "name": "stdout"
        },
        {
          "output_type": "stream",
          "text": [
            "119552/119678 [============================>.]119552/119678 [============================>.] - ETA: 0s - loss: 0.0499 - acc: 0.9819\n",
            "Epoch 00058: val_loss did not improve\n",
            "119678/119678 [==============================]119678/119678 [==============================] - 27s 223us/step - loss: 0.0499 - acc: 0.9819 - val_loss: 0.0615 - val_acc: 0.9787\n",
            "\n",
            "Epoch 59/100\n",
            " 35264/119678 [=======>......................] 35264/119678 [=======>......................] - ETA: 16s - loss: 0.0486 - acc: 0.9823"
          ],
          "name": "stdout"
        },
        {
          "output_type": "stream",
          "text": [
            "119424/119678 [============================>.]119424/119678 [============================>.] - ETA: 0s - loss: 0.0498 - acc: 0.9819\n",
            "Epoch 00059: val_loss did not improve\n",
            "119678/119678 [==============================]119678/119678 [==============================] - 27s 222us/step - loss: 0.0498 - acc: 0.9819 - val_loss: 0.0614 - val_acc: 0.9784\n",
            "\n",
            "Epoch 60/100\n",
            " 35712/119678 [=======>......................] 35712/119678 [=======>......................] - ETA: 16s - loss: 0.0486 - acc: 0.9823"
          ],
          "name": "stdout"
        },
        {
          "output_type": "stream",
          "text": [
            "119424/119678 [============================>.]119424/119678 [============================>.] - ETA: 0s - loss: 0.0499 - acc: 0.9819\n",
            "Epoch 00060: val_loss did not improve\n",
            "119678/119678 [==============================]119678/119678 [==============================] - 27s 223us/step - loss: 0.0499 - acc: 0.9819 - val_loss: 0.0612 - val_acc: 0.9785\n",
            "\n",
            "Epoch 61/100\n",
            " 34496/119678 [=======>......................] 34496/119678 [=======>......................] - ETA: 16s - loss: 0.0488 - acc: 0.9821"
          ],
          "name": "stdout"
        },
        {
          "output_type": "stream",
          "text": [
            "119488/119678 [============================>.]119488/119678 [============================>.] - ETA: 0s - loss: 0.0499 - acc: 0.9819\n",
            "Epoch 00061: val_loss did not improve\n",
            "119678/119678 [==============================]119678/119678 [==============================] - 27s 223us/step - loss: 0.0499 - acc: 0.9819 - val_loss: 0.0616 - val_acc: 0.9785\n",
            "\n",
            "Epoch 62/100\n",
            " 34944/119678 [=======>......................] 34944/119678 [=======>......................] - ETA: 16s - loss: 0.0484 - acc: 0.9823"
          ],
          "name": "stdout"
        },
        {
          "output_type": "stream",
          "text": [
            "119360/119678 [============================>.]119360/119678 [============================>.] - ETA: 0s - loss: 0.0498 - acc: 0.9819\n",
            "Epoch 00062: val_loss did not improve\n",
            "119678/119678 [==============================]119678/119678 [==============================] - 27s 223us/step - loss: 0.0498 - acc: 0.9819 - val_loss: 0.0614 - val_acc: 0.9786\n",
            "\n",
            "Epoch 63/100\n",
            " 34880/119678 [=======>......................] 34880/119678 [=======>......................] - ETA: 16s - loss: 0.0489 - acc: 0.9824"
          ],
          "name": "stdout"
        },
        {
          "output_type": "stream",
          "text": [
            "119616/119678 [============================>.]119616/119678 [============================>.] - ETA: 0s - loss: 0.0498 - acc: 0.9819\n",
            "Epoch 00063: val_loss did not improve\n",
            "119678/119678 [==============================]119678/119678 [==============================] - 27s 222us/step - loss: 0.0498 - acc: 0.9819 - val_loss: 0.0612 - val_acc: 0.9784\n",
            "\n",
            "Epoch 64/100\n",
            " 35392/119678 [=======>......................] 35392/119678 [=======>......................] - ETA: 16s - loss: 0.0494 - acc: 0.9820"
          ],
          "name": "stdout"
        },
        {
          "output_type": "stream",
          "text": [
            "119424/119678 [============================>.]119424/119678 [============================>.] - ETA: 0s - loss: 0.0497 - acc: 0.9820\n",
            "Epoch 00064: val_loss did not improve\n",
            "119678/119678 [==============================]119678/119678 [==============================] - 27s 222us/step - loss: 0.0497 - acc: 0.9819 - val_loss: 0.0618 - val_acc: 0.9786\n",
            "\n",
            "Epoch 65/100\n",
            " 35264/119678 [=======>......................] 35264/119678 [=======>......................] - ETA: 16s - loss: 0.0505 - acc: 0.9817"
          ],
          "name": "stdout"
        },
        {
          "output_type": "stream",
          "text": [
            "119616/119678 [============================>.]119616/119678 [============================>.] - ETA: 0s - loss: 0.0497 - acc: 0.9819\n",
            "Epoch 00065: val_loss did not improve\n",
            "119678/119678 [==============================]119678/119678 [==============================] - 27s 222us/step - loss: 0.0497 - acc: 0.9819 - val_loss: 0.0613 - val_acc: 0.9785\n",
            "\n",
            "Epoch 66/100\n",
            " 35840/119678 [=======>......................] 35840/119678 [=======>......................] - ETA: 16s - loss: 0.0498 - acc: 0.9816"
          ],
          "name": "stdout"
        },
        {
          "output_type": "stream",
          "text": [
            "119616/119678 [============================>.]119616/119678 [============================>.] - ETA: 0s - loss: 0.0497 - acc: 0.9819\n",
            "Epoch 00066: val_loss did not improve\n",
            "119678/119678 [==============================]119678/119678 [==============================] - 26s 221us/step - loss: 0.0497 - acc: 0.9819 - val_loss: 0.0612 - val_acc: 0.9784\n",
            "\n",
            "Epoch 67/100\n",
            " 35584/119678 [=======>......................] 35584/119678 [=======>......................] - ETA: 16s - loss: 0.0496 - acc: 0.9819"
          ],
          "name": "stdout"
        },
        {
          "output_type": "stream",
          "text": [
            "119360/119678 [============================>.]119360/119678 [============================>.] - ETA: 0s - loss: 0.0497 - acc: 0.9819\n",
            "Epoch 00067: val_loss did not improve\n",
            "119678/119678 [==============================]119678/119678 [==============================] - 27s 222us/step - loss: 0.0497 - acc: 0.9819 - val_loss: 0.0612 - val_acc: 0.9783\n",
            "\n",
            "Epoch 68/100\n",
            " 35136/119678 [=======>......................] 35136/119678 [=======>......................] - ETA: 16s - loss: 0.0501 - acc: 0.9815"
          ],
          "name": "stdout"
        },
        {
          "output_type": "stream",
          "text": [
            "119488/119678 [============================>.]119488/119678 [============================>.] - ETA: 0s - loss: 0.0496 - acc: 0.9820\n",
            "Epoch 00068: val_loss did not improve\n",
            "119678/119678 [==============================]119678/119678 [==============================] - 27s 222us/step - loss: 0.0496 - acc: 0.9820 - val_loss: 0.0615 - val_acc: 0.9783\n",
            "\n",
            "Epoch 69/100\n",
            " 36224/119678 [========>.....................] 36224/119678 [========>.....................] - ETA: 16s - loss: 0.0503 - acc: 0.9818"
          ],
          "name": "stdout"
        },
        {
          "output_type": "stream",
          "text": [
            "119552/119678 [============================>.]119552/119678 [============================>.] - ETA: 0s - loss: 0.0496 - acc: 0.9819\n",
            "Epoch 00069: val_loss did not improve\n",
            "119678/119678 [==============================]119678/119678 [==============================] - 27s 222us/step - loss: 0.0496 - acc: 0.9819 - val_loss: 0.0614 - val_acc: 0.9785\n",
            "\n",
            "Epoch 70/100\n",
            " 36096/119678 [========>.....................] 36096/119678 [========>.....................] - ETA: 16s - loss: 0.0484 - acc: 0.9824"
          ],
          "name": "stdout"
        },
        {
          "output_type": "stream",
          "text": [
            "119552/119678 [============================>.]119552/119678 [============================>.] - ETA: 0s - loss: 0.0496 - acc: 0.9819\n",
            "Epoch 00070: val_loss did not improve\n",
            "119678/119678 [==============================]119678/119678 [==============================] - 27s 222us/step - loss: 0.0496 - acc: 0.9819 - val_loss: 0.0616 - val_acc: 0.9786\n",
            "\n",
            "Epoch 71/100\n",
            " 34112/119678 [=======>......................] 34112/119678 [=======>......................] - ETA: 17s - loss: 0.0497 - acc: 0.9818"
          ],
          "name": "stdout"
        },
        {
          "output_type": "stream",
          "text": [
            "119488/119678 [============================>.]119488/119678 [============================>.] - ETA: 0s - loss: 0.0496 - acc: 0.9820\n",
            "Epoch 00071: val_loss did not improve\n",
            "119678/119678 [==============================]119678/119678 [==============================] - 27s 224us/step - loss: 0.0496 - acc: 0.9820 - val_loss: 0.0615 - val_acc: 0.9787\n",
            "\n",
            "Epoch 72/100\n",
            " 35072/119678 [=======>......................] 35072/119678 [=======>......................] - ETA: 16s - loss: 0.0495 - acc: 0.9817"
          ],
          "name": "stdout"
        },
        {
          "output_type": "stream",
          "text": [
            "119424/119678 [============================>.]119424/119678 [============================>.] - ETA: 0s - loss: 0.0496 - acc: 0.9820\n",
            "Epoch 00072: val_loss did not improve\n",
            "119678/119678 [==============================]119678/119678 [==============================] - 27s 222us/step - loss: 0.0496 - acc: 0.9820 - val_loss: 0.0615 - val_acc: 0.9785\n",
            "\n",
            "Epoch 73/100\n",
            " 34944/119678 [=======>......................] 34944/119678 [=======>......................] - ETA: 16s - loss: 0.0484 - acc: 0.9825"
          ],
          "name": "stdout"
        },
        {
          "output_type": "stream",
          "text": [
            "119360/119678 [============================>.]119360/119678 [============================>.] - ETA: 0s - loss: 0.0496 - acc: 0.9820\n",
            "Epoch 00073: val_loss did not improve\n",
            "119678/119678 [==============================]119678/119678 [==============================] - 27s 222us/step - loss: 0.0496 - acc: 0.9820 - val_loss: 0.0614 - val_acc: 0.9785\n",
            "\n",
            "Epoch 74/100\n",
            " 34304/119678 [=======>......................] 34304/119678 [=======>......................] - ETA: 17s - loss: 0.0481 - acc: 0.9825"
          ],
          "name": "stdout"
        },
        {
          "output_type": "stream",
          "text": [
            "119552/119678 [============================>.]119552/119678 [============================>.] - ETA: 0s - loss: 0.0495 - acc: 0.9820\n",
            "Epoch 00074: val_loss did not improve\n",
            "119678/119678 [==============================]119678/119678 [==============================] - 27s 223us/step - loss: 0.0495 - acc: 0.9820 - val_loss: 0.0616 - val_acc: 0.9786\n",
            "\n",
            "Epoch 75/100\n",
            " 34496/119678 [=======>......................] 34496/119678 [=======>......................] - ETA: 16s - loss: 0.0492 - acc: 0.9821"
          ],
          "name": "stdout"
        },
        {
          "output_type": "stream",
          "text": [
            "119424/119678 [============================>.]119424/119678 [============================>.] - ETA: 0s - loss: 0.0495 - acc: 0.9820\n",
            "Epoch 00075: val_loss did not improve\n",
            "119678/119678 [==============================]119678/119678 [==============================] - 27s 223us/step - loss: 0.0495 - acc: 0.9820 - val_loss: 0.0616 - val_acc: 0.9784\n",
            "\n",
            "Epoch 76/100\n",
            " 34816/119678 [=======>......................] 34816/119678 [=======>......................] - ETA: 16s - loss: 0.0495 - acc: 0.9820"
          ],
          "name": "stdout"
        },
        {
          "output_type": "stream",
          "text": [
            "119616/119678 [============================>.]119616/119678 [============================>.] - ETA: 0s - loss: 0.0495 - acc: 0.9820\n",
            "Epoch 00076: val_loss did not improve\n",
            "119678/119678 [==============================]119678/119678 [==============================] - 27s 223us/step - loss: 0.0495 - acc: 0.9821 - val_loss: 0.0616 - val_acc: 0.9787\n",
            "\n",
            "Epoch 77/100\n",
            " 33984/119678 [=======>......................] 33984/119678 [=======>......................] - ETA: 16s - loss: 0.0491 - acc: 0.9822"
          ],
          "name": "stdout"
        },
        {
          "output_type": "stream",
          "text": [
            "119616/119678 [============================>.]119616/119678 [============================>.] - ETA: 0s - loss: 0.0495 - acc: 0.9820\n",
            "Epoch 00077: val_loss did not improve\n",
            "119678/119678 [==============================]119678/119678 [==============================] - 27s 223us/step - loss: 0.0495 - acc: 0.9820 - val_loss: 0.0617 - val_acc: 0.9786\n",
            "\n",
            "Epoch 78/100\n",
            " 35392/119678 [=======>......................] 35392/119678 [=======>......................] - ETA: 16s - loss: 0.0488 - acc: 0.9822"
          ],
          "name": "stdout"
        },
        {
          "output_type": "stream",
          "text": [
            "119616/119678 [============================>.]119616/119678 [============================>.] - ETA: 0s - loss: 0.0495 - acc: 0.9821\n",
            "Epoch 00078: val_loss did not improve\n",
            "119678/119678 [==============================]119678/119678 [==============================] - 27s 222us/step - loss: 0.0495 - acc: 0.9821 - val_loss: 0.0617 - val_acc: 0.9782\n",
            "\n",
            "Epoch 79/100\n",
            " 35584/119678 [=======>......................] 35584/119678 [=======>......................] - ETA: 16s - loss: 0.0484 - acc: 0.9824"
          ],
          "name": "stdout"
        },
        {
          "output_type": "stream",
          "text": [
            "119424/119678 [============================>.]119424/119678 [============================>.] - ETA: 0s - loss: 0.0494 - acc: 0.9820\n",
            "Epoch 00079: val_loss did not improve\n",
            "119678/119678 [==============================]119678/119678 [==============================] - 27s 222us/step - loss: 0.0494 - acc: 0.9820 - val_loss: 0.0616 - val_acc: 0.9786\n",
            "\n",
            "Epoch 80/100\n",
            " 35520/119678 [=======>......................] 35520/119678 [=======>......................] - ETA: 16s - loss: 0.0491 - acc: 0.9823"
          ],
          "name": "stdout"
        },
        {
          "output_type": "stream",
          "text": [
            "119616/119678 [============================>.]119616/119678 [============================>.] - ETA: 0s - loss: 0.0494 - acc: 0.9821\n",
            "Epoch 00080: val_loss did not improve\n",
            "119678/119678 [==============================]119678/119678 [==============================] - 26s 221us/step - loss: 0.0494 - acc: 0.9821 - val_loss: 0.0615 - val_acc: 0.9786\n",
            "\n",
            "Epoch 81/100\n",
            " 35584/119678 [=======>......................] 35584/119678 [=======>......................] - ETA: 16s - loss: 0.0492 - acc: 0.9823"
          ],
          "name": "stdout"
        },
        {
          "output_type": "stream",
          "text": [
            "119488/119678 [============================>.]119488/119678 [============================>.] - ETA: 0s - loss: 0.0494 - acc: 0.9820\n",
            "Epoch 00081: val_loss did not improve\n",
            "119678/119678 [==============================]119678/119678 [==============================] - 27s 222us/step - loss: 0.0494 - acc: 0.9820 - val_loss: 0.0613 - val_acc: 0.9785\n",
            "\n",
            "Epoch 82/100\n",
            " 35392/119678 [=======>......................] 35392/119678 [=======>......................] - ETA: 16s - loss: 0.0489 - acc: 0.9823"
          ],
          "name": "stdout"
        },
        {
          "output_type": "stream",
          "text": [
            "119616/119678 [============================>.]119616/119678 [============================>.] - ETA: 0s - loss: 0.0494 - acc: 0.9820\n",
            "Epoch 00082: val_loss did not improve\n",
            "119678/119678 [==============================]119678/119678 [==============================] - 27s 222us/step - loss: 0.0494 - acc: 0.9820 - val_loss: 0.0613 - val_acc: 0.9784\n",
            "\n",
            "Epoch 83/100\n",
            " 34880/119678 [=======>......................] 34880/119678 [=======>......................] - ETA: 16s - loss: 0.0489 - acc: 0.9825"
          ],
          "name": "stdout"
        },
        {
          "output_type": "stream",
          "text": [
            "119616/119678 [============================>.]119616/119678 [============================>.] - ETA: 0s - loss: 0.0493 - acc: 0.9821\n",
            "Epoch 00083: val_loss did not improve\n",
            "119678/119678 [==============================]119678/119678 [==============================] - 27s 223us/step - loss: 0.0493 - acc: 0.9821 - val_loss: 0.0617 - val_acc: 0.9784\n",
            "\n",
            "Epoch 84/100\n",
            " 35264/119678 [=======>......................] 35264/119678 [=======>......................] - ETA: 16s - loss: 0.0481 - acc: 0.9827"
          ],
          "name": "stdout"
        },
        {
          "output_type": "stream",
          "text": [
            "119488/119678 [============================>.]119488/119678 [============================>.] - ETA: 0s - loss: 0.0494 - acc: 0.9821\n",
            "Epoch 00084: val_loss did not improve\n",
            "119678/119678 [==============================]119678/119678 [==============================] - 27s 222us/step - loss: 0.0494 - acc: 0.9821 - val_loss: 0.0615 - val_acc: 0.9785\n",
            "\n",
            "Epoch 85/100\n",
            " 34880/119678 [=======>......................] 34880/119678 [=======>......................] - ETA: 16s - loss: 0.0487 - acc: 0.9824"
          ],
          "name": "stdout"
        },
        {
          "output_type": "stream",
          "text": [
            "119424/119678 [============================>.]119424/119678 [============================>.] - ETA: 0s - loss: 0.0494 - acc: 0.9820\n",
            "Epoch 00085: val_loss did not improve\n",
            "119678/119678 [==============================]119678/119678 [==============================] - 27s 222us/step - loss: 0.0494 - acc: 0.9820 - val_loss: 0.0614 - val_acc: 0.9786\n",
            "\n",
            "Epoch 86/100\n",
            " 34816/119678 [=======>......................] 34816/119678 [=======>......................] - ETA: 16s - loss: 0.0470 - acc: 0.9830"
          ],
          "name": "stdout"
        },
        {
          "output_type": "stream",
          "text": [
            "119616/119678 [============================>.]119616/119678 [============================>.] - ETA: 0s - loss: 0.0493 - acc: 0.9821\n",
            "Epoch 00086: val_loss did not improve\n",
            "119678/119678 [==============================]119678/119678 [==============================] - 27s 224us/step - loss: 0.0494 - acc: 0.9821 - val_loss: 0.0614 - val_acc: 0.9786\n",
            "\n",
            "Epoch 87/100\n",
            " 35904/119678 [========>.....................] 35904/119678 [========>.....................] - ETA: 16s - loss: 0.0478 - acc: 0.9826"
          ],
          "name": "stdout"
        },
        {
          "output_type": "stream",
          "text": [
            "119616/119678 [============================>.]119616/119678 [============================>.] - ETA: 0s - loss: 0.0493 - acc: 0.9821\n",
            "Epoch 00087: val_loss did not improve\n",
            "119678/119678 [==============================]119678/119678 [==============================] - 27s 222us/step - loss: 0.0493 - acc: 0.9821 - val_loss: 0.0614 - val_acc: 0.9785\n",
            "\n",
            "Epoch 88/100\n",
            " 35456/119678 [=======>......................] 35456/119678 [=======>......................] - ETA: 16s - loss: 0.0480 - acc: 0.9824"
          ],
          "name": "stdout"
        },
        {
          "output_type": "stream",
          "text": [
            "119488/119678 [============================>.]119488/119678 [============================>.] - ETA: 0s - loss: 0.0492 - acc: 0.9821\n",
            "Epoch 00088: val_loss did not improve\n",
            "119678/119678 [==============================]119678/119678 [==============================] - 27s 223us/step - loss: 0.0493 - acc: 0.9820 - val_loss: 0.0615 - val_acc: 0.9787\n",
            "\n",
            "Epoch 89/100\n",
            " 34944/119678 [=======>......................] 34944/119678 [=======>......................] - ETA: 16s - loss: 0.0487 - acc: 0.9825"
          ],
          "name": "stdout"
        },
        {
          "output_type": "stream",
          "text": [
            "119424/119678 [============================>.]119424/119678 [============================>.] - ETA: 0s - loss: 0.0492 - acc: 0.9821\n",
            "Epoch 00089: val_loss did not improve\n",
            "119678/119678 [==============================]119678/119678 [==============================] - 27s 224us/step - loss: 0.0493 - acc: 0.9821 - val_loss: 0.0622 - val_acc: 0.9782\n",
            "\n",
            "Epoch 90/100\n",
            " 34880/119678 [=======>......................] 34880/119678 [=======>......................] - ETA: 16s - loss: 0.0487 - acc: 0.9821"
          ],
          "name": "stdout"
        },
        {
          "output_type": "stream",
          "text": [
            "119552/119678 [============================>.]119552/119678 [============================>.] - ETA: 0s - loss: 0.0492 - acc: 0.9821\n",
            "Epoch 00090: val_loss did not improve\n",
            "119678/119678 [==============================]119678/119678 [==============================] - 27s 222us/step - loss: 0.0493 - acc: 0.9821 - val_loss: 0.0614 - val_acc: 0.9785\n",
            "\n",
            "Epoch 91/100\n",
            " 34624/119678 [=======>......................] 34624/119678 [=======>......................] - ETA: 16s - loss: 0.0485 - acc: 0.9823"
          ],
          "name": "stdout"
        },
        {
          "output_type": "stream",
          "text": [
            "119552/119678 [============================>.]119552/119678 [============================>.] - ETA: 0s - loss: 0.0492 - acc: 0.9821\n",
            "Epoch 00091: val_loss did not improve\n",
            "119678/119678 [==============================]119678/119678 [==============================] - 27s 224us/step - loss: 0.0492 - acc: 0.9821 - val_loss: 0.0618 - val_acc: 0.9784\n",
            "\n",
            "Epoch 92/100\n",
            " 34944/119678 [=======>......................] 34944/119678 [=======>......................] - ETA: 16s - loss: 0.0486 - acc: 0.9823"
          ],
          "name": "stdout"
        },
        {
          "output_type": "stream",
          "text": [
            "119616/119678 [============================>.]119616/119678 [============================>.] - ETA: 0s - loss: 0.0492 - acc: 0.9822\n",
            "Epoch 00092: val_loss did not improve\n",
            "119678/119678 [==============================]119678/119678 [==============================] - 27s 222us/step - loss: 0.0493 - acc: 0.9821 - val_loss: 0.0621 - val_acc: 0.9785\n",
            "\n",
            "Epoch 93/100\n",
            " 35008/119678 [=======>......................] 35008/119678 [=======>......................] - ETA: 16s - loss: 0.0482 - acc: 0.9826"
          ],
          "name": "stdout"
        },
        {
          "output_type": "stream",
          "text": [
            "119616/119678 [============================>.]119616/119678 [============================>.] - ETA: 0s - loss: 0.0492 - acc: 0.9821\n",
            "Epoch 00093: val_loss did not improve\n",
            "119678/119678 [==============================]119678/119678 [==============================] - 27s 222us/step - loss: 0.0492 - acc: 0.9821 - val_loss: 0.0615 - val_acc: 0.9784\n",
            "\n",
            "Epoch 94/100\n",
            " 35136/119678 [=======>......................] 35136/119678 [=======>......................] - ETA: 16s - loss: 0.0493 - acc: 0.9821"
          ],
          "name": "stdout"
        },
        {
          "output_type": "stream",
          "text": [
            "119424/119678 [============================>.]119424/119678 [============================>.] - ETA: 0s - loss: 0.0492 - acc: 0.9821\n",
            "Epoch 00094: val_loss did not improve\n",
            "119678/119678 [==============================]119678/119678 [==============================] - 27s 222us/step - loss: 0.0492 - acc: 0.9821 - val_loss: 0.0614 - val_acc: 0.9785\n",
            "\n",
            "Epoch 95/100\n",
            " 35328/119678 [=======>......................] 35328/119678 [=======>......................] - ETA: 16s - loss: 0.0482 - acc: 0.9825"
          ],
          "name": "stdout"
        },
        {
          "output_type": "stream",
          "text": [
            "119488/119678 [============================>.]119488/119678 [============================>.] - ETA: 0s - loss: 0.0492 - acc: 0.9821\n",
            "Epoch 00095: val_loss did not improve\n",
            "119678/119678 [==============================]119678/119678 [==============================] - 27s 222us/step - loss: 0.0492 - acc: 0.9821 - val_loss: 0.0616 - val_acc: 0.9786\n",
            "\n",
            "Epoch 96/100\n",
            " 34304/119678 [=======>......................] 34304/119678 [=======>......................] - ETA: 16s - loss: 0.0477 - acc: 0.9828"
          ],
          "name": "stdout"
        },
        {
          "output_type": "stream",
          "text": [
            "119424/119678 [============================>.]119424/119678 [============================>.] - ETA: 0s - loss: 0.0492 - acc: 0.9821\n",
            "Epoch 00096: val_loss did not improve\n",
            "119678/119678 [==============================]119678/119678 [==============================] - 27s 223us/step - loss: 0.0492 - acc: 0.9821 - val_loss: 0.0625 - val_acc: 0.9777\n",
            "\n",
            "Epoch 97/100\n",
            " 34880/119678 [=======>......................] 34880/119678 [=======>......................] - ETA: 16s - loss: 0.0479 - acc: 0.9826"
          ],
          "name": "stdout"
        },
        {
          "output_type": "stream",
          "text": [
            "119616/119678 [============================>.]119616/119678 [============================>.] - ETA: 0s - loss: 0.0491 - acc: 0.9822\n",
            "Epoch 00097: val_loss did not improve\n",
            "119678/119678 [==============================]119678/119678 [==============================] - 27s 224us/step - loss: 0.0491 - acc: 0.9822 - val_loss: 0.0615 - val_acc: 0.9785\n",
            "\n",
            "Epoch 98/100\n",
            " 34880/119678 [=======>......................] 34880/119678 [=======>......................] - ETA: 16s - loss: 0.0483 - acc: 0.9826"
          ],
          "name": "stdout"
        },
        {
          "output_type": "stream",
          "text": [
            "119424/119678 [============================>.]119424/119678 [============================>.] - ETA: 0s - loss: 0.0491 - acc: 0.9822\n",
            "Epoch 00098: val_loss did not improve\n",
            "119678/119678 [==============================]119678/119678 [==============================] - 27s 224us/step - loss: 0.0491 - acc: 0.9822 - val_loss: 0.0615 - val_acc: 0.9784\n",
            "\n",
            "Epoch 99/100\n",
            " 34560/119678 [=======>......................] 34560/119678 [=======>......................] - ETA: 16s - loss: 0.0491 - acc: 0.9821"
          ],
          "name": "stdout"
        },
        {
          "output_type": "stream",
          "text": [
            "119616/119678 [============================>.]119616/119678 [============================>.] - ETA: 0s - loss: 0.0492 - acc: 0.9822\n",
            "Epoch 00099: val_loss did not improve\n",
            "119678/119678 [==============================]119678/119678 [==============================] - 27s 223us/step - loss: 0.0491 - acc: 0.9822 - val_loss: 0.0618 - val_acc: 0.9786\n",
            "\n",
            "Epoch 100/100\n",
            " 35328/119678 [=======>......................] 35328/119678 [=======>......................] - ETA: 16s - loss: 0.0482 - acc: 0.9824"
          ],
          "name": "stdout"
        },
        {
          "output_type": "stream",
          "text": [
            "119488/119678 [============================>.]119488/119678 [============================>.] - ETA: 0s - loss: 0.0491 - acc: 0.9823\n",
            "Epoch 00100: val_loss did not improve\n",
            "119678/119678 [==============================]119678/119678 [==============================] - 27s 223us/step - loss: 0.0491 - acc: 0.9823 - val_loss: 0.0615 - val_acc: 0.9785\n",
            "\n",
            "Visualize the losses\n"
          ],
          "name": "stdout"
        },
        {
          "output_type": "display_data",
          "data": {
            "image/png": "iVBORw0KGgoAAAANSUhEUgAAAecAAAFMCAYAAADx1nR5AAAABHNCSVQICAgIfAhkiAAAAAlwSFlz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\ns4iISDejcBYREelm/j9Z3RLRSiK5RQAAAABJRU5ErkJggg==\n",
            "text/plain": [
              "<matplotlib.figure.Figure at 0x7fa2100dcb70>"
            ]
          },
          "metadata": {
            "tags": []
          }
        }
      ]
    }
  ]
}
